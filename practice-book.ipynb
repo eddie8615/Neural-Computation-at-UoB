{
 "cells": [
  {
   "cell_type": "code",
   "execution_count": 1,
   "metadata": {},
   "outputs": [],
   "source": [
    "import matplotlib.pyplot as plt"
   ]
  },
  {
   "cell_type": "code",
   "execution_count": 2,
   "metadata": {},
   "outputs": [],
   "source": [
    "import numpy as np"
   ]
  },
  {
   "cell_type": "code",
   "execution_count": 3,
   "metadata": {},
   "outputs": [
    {
     "data": {
      "text/plain": [
       "array([[ 2. ,  7. ],\n",
       "       [ 2. ,  7.4],\n",
       "       [ 2. ,  9.5],\n",
       "       [ 2.1,  7.2],\n",
       "       [ 2.1,  7.3],\n",
       "       [ 2.1,  7.6],\n",
       "       [ 2.1,  8.1],\n",
       "       [ 2.1,  8.2],\n",
       "       [ 2.1,  8.3],\n",
       "       [ 2.1,  8.5],\n",
       "       [ 2.1,  8.7],\n",
       "       [ 2.1,  9.8],\n",
       "       [ 2.2,  7.1],\n",
       "       [ 2.2,  8.7],\n",
       "       [ 2.2,  9.1],\n",
       "       [ 2.2,  9.7],\n",
       "       [ 2.2, 10.9],\n",
       "       [ 2.2, 11. ],\n",
       "       [ 2.3,  7.3],\n",
       "       [ 2.3,  7.9],\n",
       "       [ 2.3,  8.4],\n",
       "       [ 2.3,  9. ],\n",
       "       [ 2.3,  9. ],\n",
       "       [ 2.3,  9.5],\n",
       "       [ 2.3,  9.6],\n",
       "       [ 2.3,  9.7],\n",
       "       [ 2.3, 10.1],\n",
       "       [ 2.3, 10.1],\n",
       "       [ 2.3, 10.6],\n",
       "       [ 2.3, 11.2],\n",
       "       [ 2.4,  6.3],\n",
       "       [ 2.4,  8.7],\n",
       "       [ 2.4,  8.8],\n",
       "       [ 2.4, 10.2],\n",
       "       [ 2.5,  9. ],\n",
       "       [ 2.5, 10.9],\n",
       "       [ 2.6,  8.7],\n",
       "       [ 2.6, 10.1],\n",
       "       [ 2.6, 10.1],\n",
       "       [ 2.7,  8.5],\n",
       "       [ 2.7, 10.2],\n",
       "       [ 2.7, 10.8],\n",
       "       [ 2.9,  9.9],\n",
       "       [ 2.9, 10.1],\n",
       "       [ 2.9, 10.1],\n",
       "       [ 3. , 10.6],\n",
       "       [ 3. , 13. ],\n",
       "       [ 2. ,  6.5],\n",
       "       [ 2. ,  6.5],\n",
       "       [ 2.1, 10.1],\n",
       "       [ 2.2,  7.2],\n",
       "       [ 2.2,  7.6],\n",
       "       [ 2.2,  7.9],\n",
       "       [ 2.2,  8.5],\n",
       "       [ 2.2,  9.1],\n",
       "       [ 2.2,  9.6],\n",
       "       [ 2.2,  9.6],\n",
       "       [ 2.2, 10.7],\n",
       "       [ 2.3,  9.6],\n",
       "       [ 2.4,  7.3],\n",
       "       [ 2.4,  7.9],\n",
       "       [ 2.4,  7.9],\n",
       "       [ 2.4,  9.1],\n",
       "       [ 2.4,  9.3],\n",
       "       [ 2.5,  7.9],\n",
       "       [ 2.5,  8.6],\n",
       "       [ 2.5,  8.8],\n",
       "       [ 2.5,  8.8],\n",
       "       [ 2.5,  9.3],\n",
       "       [ 2.5, 11. ],\n",
       "       [ 2.5, 12.7],\n",
       "       [ 2.5, 12.7],\n",
       "       [ 2.6,  7.7],\n",
       "       [ 2.6,  8.3],\n",
       "       [ 2.6,  9.4],\n",
       "       [ 2.6,  9.4],\n",
       "       [ 2.6, 10.5],\n",
       "       [ 2.6, 11.5],\n",
       "       [ 2.7,  8. ],\n",
       "       [ 2.7,  9. ],\n",
       "       [ 2.7,  9.6],\n",
       "       [ 2.7,  9.6],\n",
       "       [ 2.7,  9.8],\n",
       "       [ 2.7, 10.4],\n",
       "       [ 2.7, 11.1],\n",
       "       [ 2.7, 12. ],\n",
       "       [ 2.7, 12.5],\n",
       "       [ 2.8,  9.1],\n",
       "       [ 2.8, 10. ],\n",
       "       [ 2.8, 10.2],\n",
       "       [ 2.8, 11.4],\n",
       "       [ 2.8, 12. ],\n",
       "       [ 2.8, 13.3],\n",
       "       [ 2.8, 13.5],\n",
       "       [ 2.9,  9.4],\n",
       "       [ 2.9, 10.1],\n",
       "       [ 2.9, 10.6],\n",
       "       [ 2.9, 11.3],\n",
       "       [ 2.9, 11.8],\n",
       "       [ 3. , 10. ],\n",
       "       [ 3. , 10.4],\n",
       "       [ 3. , 10.6],\n",
       "       [ 3. , 11.6],\n",
       "       [ 3. , 12.2],\n",
       "       [ 3. , 12.4],\n",
       "       [ 3. , 12.7],\n",
       "       [ 3. , 13.3],\n",
       "       [ 3. , 13.8],\n",
       "       [ 3.1,  9.9],\n",
       "       [ 3.1, 11.5],\n",
       "       [ 3.1, 12.1],\n",
       "       [ 3.1, 12.5],\n",
       "       [ 3.1, 13. ],\n",
       "       [ 3.1, 14.3],\n",
       "       [ 3.2, 11.6],\n",
       "       [ 3.2, 11.9],\n",
       "       [ 3.2, 12.3],\n",
       "       [ 3.2, 13. ],\n",
       "       [ 3.2, 13.5],\n",
       "       [ 3.2, 13.6],\n",
       "       [ 3.3, 11.5],\n",
       "       [ 3.3, 12. ],\n",
       "       [ 3.3, 14.1],\n",
       "       [ 3.3, 14.9],\n",
       "       [ 3.3, 15.4],\n",
       "       [ 3.4, 11.2],\n",
       "       [ 3.4, 12.2],\n",
       "       [ 3.4, 12.4],\n",
       "       [ 3.4, 12.8],\n",
       "       [ 3.4, 14.4],\n",
       "       [ 3.5, 11.7],\n",
       "       [ 3.5, 12.9],\n",
       "       [ 3.5, 15.6],\n",
       "       [ 3.5, 15.7],\n",
       "       [ 3.5, 17.2],\n",
       "       [ 3.6, 11.8],\n",
       "       [ 3.6, 13.3],\n",
       "       [ 3.6, 14.8],\n",
       "       [ 3.6, 15. ],\n",
       "       [ 3.7, 11. ],\n",
       "       [ 3.8, 14.8],\n",
       "       [ 3.8, 16.8],\n",
       "       [ 3.9, 14.4],\n",
       "       [ 3.9, 20.5]])"
      ]
     },
     "execution_count": 3,
     "metadata": {},
     "output_type": "execute_result"
    }
   ],
   "source": [
    "# Read the data from file\n",
    "url = \"http://www.cs.bham.ac.uk/~lehrepk/nc/cats.csv\"\n",
    "cats = np.genfromtxt(url, delimiter=\",\", skip_header=1, usecols=(1,2))\n",
    "\n",
    "# print out the content of cats\n",
    "cats"
   ]
  },
  {
   "cell_type": "code",
   "execution_count": 4,
   "metadata": {},
   "outputs": [
    {
     "data": {
      "text/plain": [
       "array([2. , 2. , 2. , 2.1, 2.1, 2.1, 2.1, 2.1, 2.1, 2.1, 2.1, 2.1, 2.2,\n",
       "       2.2, 2.2, 2.2, 2.2, 2.2, 2.3, 2.3, 2.3, 2.3, 2.3, 2.3, 2.3, 2.3,\n",
       "       2.3, 2.3, 2.3, 2.3, 2.4, 2.4, 2.4, 2.4, 2.5, 2.5, 2.6, 2.6, 2.6,\n",
       "       2.7, 2.7, 2.7, 2.9, 2.9, 2.9, 3. , 3. , 2. , 2. , 2.1, 2.2, 2.2,\n",
       "       2.2, 2.2, 2.2, 2.2, 2.2, 2.2, 2.3, 2.4, 2.4, 2.4, 2.4, 2.4, 2.5,\n",
       "       2.5, 2.5, 2.5, 2.5, 2.5, 2.5, 2.5, 2.6, 2.6, 2.6, 2.6, 2.6, 2.6,\n",
       "       2.7, 2.7, 2.7, 2.7, 2.7, 2.7, 2.7, 2.7, 2.7, 2.8, 2.8, 2.8, 2.8,\n",
       "       2.8, 2.8, 2.8, 2.9, 2.9, 2.9, 2.9, 2.9, 3. , 3. , 3. , 3. , 3. ,\n",
       "       3. , 3. , 3. , 3. , 3.1, 3.1, 3.1, 3.1, 3.1, 3.1, 3.2, 3.2, 3.2,\n",
       "       3.2, 3.2, 3.2, 3.3, 3.3, 3.3, 3.3, 3.3, 3.4, 3.4, 3.4, 3.4, 3.4,\n",
       "       3.5, 3.5, 3.5, 3.5, 3.5, 3.6, 3.6, 3.6, 3.6, 3.7, 3.8, 3.8, 3.9,\n",
       "       3.9])"
      ]
     },
     "execution_count": 4,
     "metadata": {},
     "output_type": "execute_result"
    }
   ],
   "source": [
    "body_weight = cats.T[0]\n",
    "body_weight"
   ]
  },
  {
   "cell_type": "code",
   "execution_count": 5,
   "metadata": {},
   "outputs": [],
   "source": [
    "heart_weight = cats.T[1]"
   ]
  },
  {
   "cell_type": "code",
   "execution_count": 6,
   "metadata": {},
   "outputs": [
    {
     "data": {
      "text/plain": [
       "array([ 7. ,  7.4,  9.5,  7.2,  7.3,  7.6,  8.1,  8.2,  8.3,  8.5,  8.7,\n",
       "        9.8,  7.1,  8.7,  9.1,  9.7, 10.9, 11. ,  7.3,  7.9,  8.4,  9. ,\n",
       "        9. ,  9.5,  9.6,  9.7, 10.1, 10.1, 10.6, 11.2,  6.3,  8.7,  8.8,\n",
       "       10.2,  9. , 10.9,  8.7, 10.1, 10.1,  8.5, 10.2, 10.8,  9.9, 10.1,\n",
       "       10.1, 10.6, 13. ,  6.5,  6.5, 10.1,  7.2,  7.6,  7.9,  8.5,  9.1,\n",
       "        9.6,  9.6, 10.7,  9.6,  7.3,  7.9,  7.9,  9.1,  9.3,  7.9,  8.6,\n",
       "        8.8,  8.8,  9.3, 11. , 12.7, 12.7,  7.7,  8.3,  9.4,  9.4, 10.5,\n",
       "       11.5,  8. ,  9. ,  9.6,  9.6,  9.8, 10.4, 11.1, 12. , 12.5,  9.1,\n",
       "       10. , 10.2, 11.4, 12. , 13.3, 13.5,  9.4, 10.1, 10.6, 11.3, 11.8,\n",
       "       10. , 10.4, 10.6, 11.6, 12.2, 12.4, 12.7, 13.3, 13.8,  9.9, 11.5,\n",
       "       12.1, 12.5, 13. , 14.3, 11.6, 11.9, 12.3, 13. , 13.5, 13.6, 11.5,\n",
       "       12. , 14.1, 14.9, 15.4, 11.2, 12.2, 12.4, 12.8, 14.4, 11.7, 12.9,\n",
       "       15.6, 15.7, 17.2, 11.8, 13.3, 14.8, 15. , 11. , 14.8, 16.8, 14.4,\n",
       "       20.5])"
      ]
     },
     "execution_count": 6,
     "metadata": {},
     "output_type": "execute_result"
    }
   ],
   "source": [
    "heart_weight"
   ]
  },
  {
   "cell_type": "code",
   "execution_count": 7,
   "metadata": {},
   "outputs": [
    {
     "data": {
      "text/plain": [
       "Text(0, 0.5, 'Body weight')"
      ]
     },
     "execution_count": 7,
     "metadata": {},
     "output_type": "execute_result"
    },
    {
     "data": {
      "image/png": "[encoded data removed]",
      "text/plain": [
       "<Figure size 432x288 with 1 Axes>"
      ]
     },
     "metadata": {
      "needs_background": "light"
     },
     "output_type": "display_data"
    }
   ],
   "source": [
    "plt.scatter(heart_weight, body_weight)\n",
    "plt.xlabel(\"Heart weight\") \n",
    "plt.ylabel(\"Body weight\") "
   ]
  },
  {
   "cell_type": "code",
   "execution_count": 8,
   "metadata": {},
   "outputs": [],
   "source": [
    "a = np.random.randint(0,10,(4,4,5))\n",
    "b = np.random.randint(0,10,(3,4,4))"
   ]
  },
  {
   "cell_type": "code",
   "execution_count": 12,
   "metadata": {},
   "outputs": [
    {
     "name": "stdout",
     "output_type": "stream",
     "text": [
      "(5, 3)\n"
     ]
    }
   ],
   "source": [
    "result = np.tensordot(a,b, [(0,1), (2,1)])\n",
    "print(result.shape)"
   ]
  },
  {
   "cell_type": "code",
   "execution_count": 13,
   "metadata": {},
   "outputs": [],
   "source": [
    "def prob_density_func(x, mean, std):\n",
    "    return 1/(np.sqrt(2 * np.pi * std**2) * np.exp(-0.5 * (x - mean)**2 / 2 * std**2))"
   ]
  },
  {
   "cell_type": "code",
   "execution_count": null,
   "metadata": {},
   "outputs": [],
   "source": []
  }
 ],
 "metadata": {
  "kernelspec": {
   "display_name": "Python 3",
   "language": "python",
   "name": "python3"
  },
  "language_info": {
   "codemirror_mode": {
    "name": "ipython",
    "version": 3
   },
   "file_extension": ".py",
   "mimetype": "text/x-python",
   "name": "python",
   "nbconvert_exporter": "python",
   "pygments_lexer": "ipython3",
   "version": "3.8.3"
  }
 },
 "nbformat": 4,
 "nbformat_minor": 4
}
