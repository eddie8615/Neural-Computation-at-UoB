{
 "cells": [
  {
   "cell_type": "markdown",
   "metadata": {},
   "source": [
    "# Neural Computation (Autumn 2020)\n",
    "# Lab 2: Advanced Python Libraries & Linear Regression\n",
    "\n",
    "In this exercise, you will learn the following:\n",
    "\n",
    "* Advanced libraries like Numpy and Matplotlib\n",
    "* Import a data file with NumPy\n",
    "* Produce scatter and line plots using Matplotlib\n",
    "* Define a linear model and a cost function\n",
    "* Fit a linear model using Ordinary Least Squares Method\n",
    "* Train a linear model using Gradient Descent Algorithm\n",
    "\n",
    "# Section 1: Numpy & Matplotlib\n",
    "## Numpy"
   ]
  },
  {
   "cell_type": "markdown",
   "metadata": {},
   "source": [
    "Numpy is the core library for scientific computing in Python. It provides a high-performance multidimensional array object, and tools for working with these arrays. If you are already familiar with MATLAB, you might find this [tutorial](http://wiki.scipy.org/NumPy_for_Matlab_Users) useful to get started with Numpy."
   ]
  },
  {
   "cell_type": "markdown",
   "metadata": {},
   "source": [
    "To use Numpy, we first need to import the `numpy` package. "
   ]
  },
  {
   "cell_type": "code",
   "execution_count": 1,
   "metadata": {
    "jupyter": {
     "outputs_hidden": true
    }
   },
   "outputs": [],
   "source": [
    "import numpy as np"
   ]
  },
  {
   "cell_type": "markdown",
   "metadata": {},
   "source": [
    "To call a function `X` from the NumPy module, you would normally have to write `NumPy.X()`. However, if you invoke NumPy functions many places in your code, this quickly becomes tedious. By adding `as np` after your `import` statement as shown above, you can instead write  `np.X()`, which is less verbose. "
   ]
  },
  {
   "cell_type": "markdown",
   "metadata": {},
   "source": [
    "### Arrays"
   ]
  },
  {
   "cell_type": "markdown",
   "metadata": {},
   "source": [
    "A numpy array is a grid of values, all of the same type, and is indexed by a tuple of nonnegative integers. The number of dimensions is the rank of the array; the shape of an array is a tuple of integers giving the size of the array along each dimension."
   ]
  },
  {
   "cell_type": "markdown",
   "metadata": {},
   "source": [
    "We can initialize numpy arrays from nested Python lists, and access elements using square brackets:"
   ]
  },
  {
   "cell_type": "code",
   "execution_count": 2,
   "metadata": {
    "jupyter": {
     "outputs_hidden": true
    }
   },
   "outputs": [
    {
     "name": "stdout",
     "output_type": "stream",
     "text": [
      "<class 'numpy.ndarray'> (3,) 1 2 3\n",
      "[5 2 3]\n"
     ]
    }
   ],
   "source": [
    "a = np.array([1, 2, 3])  # Create a rank 1 array\n",
    "print(type(a), a.shape, a[0], a[1], a[2])\n",
    "a[0] = 5                 # Change an element of the array\n",
    "print(a)                  "
   ]
  },
  {
   "cell_type": "code",
   "execution_count": 3,
   "metadata": {
    "jupyter": {
     "outputs_hidden": true
    }
   },
   "outputs": [
    {
     "name": "stdout",
     "output_type": "stream",
     "text": [
      "[[1 2 3]\n",
      " [4 5 6]]\n"
     ]
    }
   ],
   "source": [
    "b = np.array([[1,2,3],[4,5,6]])   # Create a rank 2 array\n",
    "print(b)"
   ]
  },
  {
   "cell_type": "code",
   "execution_count": 4,
   "metadata": {
    "jupyter": {
     "outputs_hidden": true
    }
   },
   "outputs": [
    {
     "name": "stdout",
     "output_type": "stream",
     "text": [
      "(2, 3)\n",
      "1 2 4\n"
     ]
    }
   ],
   "source": [
    "print(b.shape)                   \n",
    "print(b[0, 0], b[0, 1], b[1, 0])"
   ]
  },
  {
   "cell_type": "markdown",
   "metadata": {},
   "source": [
    "Numpy also provides many functions to create arrays:"
   ]
  },
  {
   "cell_type": "code",
   "execution_count": 5,
   "metadata": {
    "jupyter": {
     "outputs_hidden": true
    }
   },
   "outputs": [
    {
     "name": "stdout",
     "output_type": "stream",
     "text": [
      "[[0. 0.]\n",
      " [0. 0.]]\n"
     ]
    }
   ],
   "source": [
    "a = np.zeros((2,2))  # Create an array of all zeros\n",
    "print(a)"
   ]
  },
  {
   "cell_type": "code",
   "execution_count": 6,
   "metadata": {
    "jupyter": {
     "outputs_hidden": true
    }
   },
   "outputs": [
    {
     "name": "stdout",
     "output_type": "stream",
     "text": [
      "[[1. 1.]]\n"
     ]
    }
   ],
   "source": [
    "b = np.ones((1,2))   # Create an array of all ones\n",
    "print(b)"
   ]
  },
  {
   "cell_type": "code",
   "execution_count": 7,
   "metadata": {
    "jupyter": {
     "outputs_hidden": true
    }
   },
   "outputs": [
    {
     "name": "stdout",
     "output_type": "stream",
     "text": [
      "[[7 7]\n",
      " [7 7]]\n"
     ]
    }
   ],
   "source": [
    "c = np.full((2,2), 7) # Create a constant array\n",
    "print(c) "
   ]
  },
  {
   "cell_type": "code",
   "execution_count": 8,
   "metadata": {
    "jupyter": {
     "outputs_hidden": true
    }
   },
   "outputs": [
    {
     "name": "stdout",
     "output_type": "stream",
     "text": [
      "[[1. 0.]\n",
      " [0. 1.]]\n"
     ]
    }
   ],
   "source": [
    "d = np.eye(2)        # Create a 2x2 identity matrix\n",
    "print(d)"
   ]
  },
  {
   "cell_type": "code",
   "execution_count": 9,
   "metadata": {
    "jupyter": {
     "outputs_hidden": true
    }
   },
   "outputs": [
    {
     "name": "stdout",
     "output_type": "stream",
     "text": [
      "[[0.8748383  0.71870766]\n",
      " [0.27526538 0.31097347]]\n"
     ]
    }
   ],
   "source": [
    "e = np.random.random((2,2)) # Create an array filled with random values\n",
    "print(e)"
   ]
  },
  {
   "cell_type": "markdown",
   "metadata": {},
   "source": [
    "### Array indexing"
   ]
  },
  {
   "cell_type": "markdown",
   "metadata": {},
   "source": [
    "Numpy offers several ways to index into arrays."
   ]
  },
  {
   "cell_type": "markdown",
   "metadata": {},
   "source": [
    "Slicing: Similar to Python lists, numpy arrays can be sliced. Since arrays may be multidimensional, you must specify a slice for each dimension of the array:"
   ]
  },
  {
   "cell_type": "code",
   "execution_count": 10,
   "metadata": {
    "jupyter": {
     "outputs_hidden": true
    }
   },
   "outputs": [
    {
     "name": "stdout",
     "output_type": "stream",
     "text": [
      "[[2 3]\n",
      " [6 7]]\n"
     ]
    }
   ],
   "source": [
    "import numpy as np\n",
    "\n",
    "# Create the following rank 2 array with shape (3, 4)\n",
    "# [[ 1  2  3  4]\n",
    "#  [ 5  6  7  8]\n",
    "#  [ 9 10 11 12]]\n",
    "a = np.array([[1,2,3,4], [5,6,7,8], [9,10,11,12]])\n",
    "\n",
    "# Use slicing to pull out the subarray consisting of the first 2 rows\n",
    "# and columns 1 and 2; b is the following array of shape (2, 2):\n",
    "# [[2 3]\n",
    "#  [6 7]]\n",
    "b = a[:2, 1:3]\n",
    "print(b)"
   ]
  },
  {
   "cell_type": "markdown",
   "metadata": {},
   "source": [
    "A slice of an array is a view into the same data, so modifying it will modify the original array."
   ]
  },
  {
   "cell_type": "code",
   "execution_count": 11,
   "metadata": {
    "jupyter": {
     "outputs_hidden": true
    }
   },
   "outputs": [
    {
     "name": "stdout",
     "output_type": "stream",
     "text": [
      "2\n",
      "77\n"
     ]
    }
   ],
   "source": [
    "print(a[0, 1])  \n",
    "b[0, 0] = 77    # b[0, 0] is the same piece of data as a[0, 1]\n",
    "print(a[0, 1]) "
   ]
  },
  {
   "cell_type": "markdown",
   "metadata": {},
   "source": [
    "You can also mix integer indexing with slice indexing. However, doing so will yield an array of lower rank than the original array. Note that this is quite different from the way that MATLAB handles array slicing:"
   ]
  },
  {
   "cell_type": "code",
   "execution_count": 12,
   "metadata": {
    "jupyter": {
     "outputs_hidden": true
    }
   },
   "outputs": [
    {
     "name": "stdout",
     "output_type": "stream",
     "text": [
      "[[ 1  2  3  4]\n",
      " [ 5  6  7  8]\n",
      " [ 9 10 11 12]]\n"
     ]
    }
   ],
   "source": [
    "# Create the following rank 2 array with shape (3, 4)\n",
    "a = np.array([[1,2,3,4], [5,6,7,8], [9,10,11,12]])\n",
    "print(a)"
   ]
  },
  {
   "cell_type": "markdown",
   "metadata": {},
   "source": [
    "Two ways of accessing the data in the middle row of the array.\n",
    "Mixing integer indexing with slices yields an array of lower rank,\n",
    "while using only slices yields an array of the same rank as the\n",
    "original array:"
   ]
  },
  {
   "cell_type": "code",
   "execution_count": 13,
   "metadata": {
    "jupyter": {
     "outputs_hidden": true
    }
   },
   "outputs": [
    {
     "name": "stdout",
     "output_type": "stream",
     "text": [
      "[5 6 7 8] (4,)\n",
      "[[5 6 7 8]] (1, 4)\n",
      "[[5 6 7 8]] (1, 4)\n"
     ]
    }
   ],
   "source": [
    "row_r1 = a[1, :]    # Rank 1 view of the second row of a  \n",
    "row_r2 = a[1:2, :]  # Rank 2 view of the second row of a\n",
    "row_r3 = a[[1], :]  # Rank 2 view of the second row of a\n",
    "print(row_r1, row_r1.shape)\n",
    "print(row_r2, row_r2.shape)\n",
    "print(row_r3, row_r3.shape)"
   ]
  },
  {
   "cell_type": "code",
   "execution_count": 14,
   "metadata": {
    "jupyter": {
     "outputs_hidden": true
    }
   },
   "outputs": [
    {
     "name": "stdout",
     "output_type": "stream",
     "text": [
      "[ 2  6 10] (3,)\n",
      "[[ 2]\n",
      " [ 6]\n",
      " [10]] (3, 1)\n"
     ]
    }
   ],
   "source": [
    "# We can make the same distinction when accessing columns of an array:\n",
    "col_r1 = a[:, 1]\n",
    "col_r2 = a[:, 1:2]\n",
    "print(col_r1, col_r1.shape)\n",
    "print(col_r2, col_r2.shape)"
   ]
  },
  {
   "cell_type": "markdown",
   "metadata": {},
   "source": [
    "Integer array indexing: When you index into numpy arrays using slicing, the resulting array view will always be a subarray of the original array. In contrast, integer array indexing allows you to construct arbitrary arrays using the data from another array. Here is an example:"
   ]
  },
  {
   "cell_type": "code",
   "execution_count": 15,
   "metadata": {
    "jupyter": {
     "outputs_hidden": true
    }
   },
   "outputs": [
    {
     "name": "stdout",
     "output_type": "stream",
     "text": [
      "[1 4 5]\n",
      "[1 4 5]\n"
     ]
    }
   ],
   "source": [
    "a = np.array([[1,2], [3, 4], [5, 6]])\n",
    "\n",
    "# An example of integer array indexing.\n",
    "# The returned array will have shape (3,) and \n",
    "print(a[[0, 1, 2], [0, 1, 0]])\n",
    "\n",
    "# The above example of integer array indexing is equivalent to this:\n",
    "print(np.array([a[0, 0], a[1, 1], a[2, 0]]))"
   ]
  },
  {
   "cell_type": "code",
   "execution_count": 16,
   "metadata": {
    "jupyter": {
     "outputs_hidden": true
    }
   },
   "outputs": [
    {
     "name": "stdout",
     "output_type": "stream",
     "text": [
      "[2 2]\n",
      "[2 2]\n"
     ]
    }
   ],
   "source": [
    "# When using integer array indexing, you can reuse the same\n",
    "# element from the source array:\n",
    "print(a[[0, 0], [1, 1]])\n",
    "\n",
    "# Equivalent to the previous integer array indexing example\n",
    "print(np.array([a[0, 1], a[0, 1]]))"
   ]
  },
  {
   "cell_type": "markdown",
   "metadata": {},
   "source": [
    "One useful trick with integer array indexing is selecting or mutating one element from each row of a matrix:"
   ]
  },
  {
   "cell_type": "code",
   "execution_count": 17,
   "metadata": {
    "jupyter": {
     "outputs_hidden": true
    }
   },
   "outputs": [
    {
     "name": "stdout",
     "output_type": "stream",
     "text": [
      "[[ 1  2  3]\n",
      " [ 4  5  6]\n",
      " [ 7  8  9]\n",
      " [10 11 12]]\n"
     ]
    }
   ],
   "source": [
    "# Create a new array from which we will select elements\n",
    "a = np.array([[1,2,3], [4,5,6], [7,8,9], [10, 11, 12]])\n",
    "print(a)"
   ]
  },
  {
   "cell_type": "code",
   "execution_count": 18,
   "metadata": {
    "jupyter": {
     "outputs_hidden": true
    }
   },
   "outputs": [
    {
     "name": "stdout",
     "output_type": "stream",
     "text": [
      "[ 1  6  7 11]\n"
     ]
    }
   ],
   "source": [
    "# Create an array of indices\n",
    "b = np.array([0, 2, 0, 1])\n",
    "\n",
    "# Select one element from each row of a using the indices in b\n",
    "print(a[np.arange(4), b])  # Prints \"[ 1  6  7 11]\""
   ]
  },
  {
   "cell_type": "code",
   "execution_count": 19,
   "metadata": {
    "jupyter": {
     "outputs_hidden": true
    }
   },
   "outputs": [
    {
     "name": "stdout",
     "output_type": "stream",
     "text": [
      "[[11  2  3]\n",
      " [ 4  5 16]\n",
      " [17  8  9]\n",
      " [10 21 12]]\n"
     ]
    }
   ],
   "source": [
    "# Mutate one element from each row of a using the indices in b\n",
    "a[np.arange(4), b] += 10\n",
    "print(a)"
   ]
  },
  {
   "cell_type": "markdown",
   "metadata": {},
   "source": [
    "Boolean array indexing: Boolean array indexing lets you pick out arbitrary elements of an array. Frequently this type of indexing is used to select the elements of an array that satisfy some condition. Here is an example:"
   ]
  },
  {
   "cell_type": "code",
   "execution_count": 20,
   "metadata": {
    "jupyter": {
     "outputs_hidden": true
    }
   },
   "outputs": [
    {
     "name": "stdout",
     "output_type": "stream",
     "text": [
      "[[False False]\n",
      " [ True  True]\n",
      " [ True  True]]\n"
     ]
    }
   ],
   "source": [
    "import numpy as np\n",
    "\n",
    "a = np.array([[1,2], [3, 4], [5, 6]])\n",
    "\n",
    "bool_idx = (a > 2)  # Find the elements of a that are bigger than 2;\n",
    "                    # this returns a numpy array of Booleans of the same\n",
    "                    # shape as a, where each slot of bool_idx tells\n",
    "                    # whether that element of a is > 2.\n",
    "\n",
    "print(bool_idx)"
   ]
  },
  {
   "cell_type": "code",
   "execution_count": 21,
   "metadata": {
    "jupyter": {
     "outputs_hidden": true
    }
   },
   "outputs": [
    {
     "name": "stdout",
     "output_type": "stream",
     "text": [
      "[3 4 5 6]\n",
      "[3 4 5 6]\n"
     ]
    }
   ],
   "source": [
    "# We use boolean array indexing to construct a rank 1 array\n",
    "# consisting of the elements of a corresponding to the True values\n",
    "# of bool_idx\n",
    "print(a[bool_idx])\n",
    "\n",
    "# We can do all of the above in a single concise statement:\n",
    "print(a[a > 2])"
   ]
  },
  {
   "cell_type": "markdown",
   "metadata": {},
   "source": [
    "For brevity we have left out a lot of details about numpy array indexing; if you want to know more you should read the documentation."
   ]
  },
  {
   "cell_type": "markdown",
   "metadata": {},
   "source": [
    "### Array math"
   ]
  },
  {
   "cell_type": "markdown",
   "metadata": {},
   "source": [
    "Basic mathematical functions operate elementwise on arrays, and are available both as operator overloads and as functions in the numpy module:"
   ]
  },
  {
   "cell_type": "code",
   "execution_count": 22,
   "metadata": {
    "jupyter": {
     "outputs_hidden": true
    }
   },
   "outputs": [
    {
     "name": "stdout",
     "output_type": "stream",
     "text": [
      "[[ 6.  8.]\n",
      " [10. 12.]]\n",
      "[[ 6.  8.]\n",
      " [10. 12.]]\n"
     ]
    }
   ],
   "source": [
    "x = np.array([[1,2],[3,4]], dtype=np.float64)\n",
    "y = np.array([[5,6],[7,8]], dtype=np.float64)\n",
    "\n",
    "# Elementwise sum; both produce the array\n",
    "print(x + y)\n",
    "print(np.add(x, y))"
   ]
  },
  {
   "cell_type": "code",
   "execution_count": 23,
   "metadata": {
    "jupyter": {
     "outputs_hidden": true
    }
   },
   "outputs": [
    {
     "name": "stdout",
     "output_type": "stream",
     "text": [
      "[[-4. -4.]\n",
      " [-4. -4.]]\n",
      "[[-4. -4.]\n",
      " [-4. -4.]]\n"
     ]
    }
   ],
   "source": [
    "# Elementwise difference; both produce the array\n",
    "print(x - y)\n",
    "print(np.subtract(x, y))"
   ]
  },
  {
   "cell_type": "code",
   "execution_count": 24,
   "metadata": {
    "jupyter": {
     "outputs_hidden": true
    }
   },
   "outputs": [
    {
     "name": "stdout",
     "output_type": "stream",
     "text": [
      "[[ 5. 12.]\n",
      " [21. 32.]]\n",
      "[[ 5. 12.]\n",
      " [21. 32.]]\n"
     ]
    }
   ],
   "source": [
    "# Elementwise product; both produce the array\n",
    "print(x * y)\n",
    "print(np.multiply(x, y))"
   ]
  },
  {
   "cell_type": "code",
   "execution_count": 25,
   "metadata": {
    "jupyter": {
     "outputs_hidden": true
    }
   },
   "outputs": [
    {
     "name": "stdout",
     "output_type": "stream",
     "text": [
      "[[0.2        0.33333333]\n",
      " [0.42857143 0.5       ]]\n",
      "[[0.2        0.33333333]\n",
      " [0.42857143 0.5       ]]\n"
     ]
    }
   ],
   "source": [
    "# Elementwise division; both produce the array\n",
    "# [[ 0.2         0.33333333]\n",
    "#  [ 0.42857143  0.5       ]]\n",
    "print(x / y)\n",
    "print(np.divide(x, y))"
   ]
  },
  {
   "cell_type": "code",
   "execution_count": 26,
   "metadata": {
    "jupyter": {
     "outputs_hidden": true
    }
   },
   "outputs": [
    {
     "name": "stdout",
     "output_type": "stream",
     "text": [
      "[[1.         1.41421356]\n",
      " [1.73205081 2.        ]]\n"
     ]
    }
   ],
   "source": [
    "# Elementwise square root; produces the array\n",
    "# [[ 1.          1.41421356]\n",
    "#  [ 1.73205081  2.        ]]\n",
    "print(np.sqrt(x))"
   ]
  },
  {
   "cell_type": "markdown",
   "metadata": {},
   "source": [
    "Note that unlike MATLAB, `*` is elementwise multiplication, not matrix multiplication. We instead use the dot function to compute inner products of vectors, to multiply a vector by a matrix, and to multiply matrices. dot is available both as a function in the numpy module and as an instance method of array objects:"
   ]
  },
  {
   "cell_type": "code",
   "execution_count": 27,
   "metadata": {
    "jupyter": {
     "outputs_hidden": true
    }
   },
   "outputs": [
    {
     "name": "stdout",
     "output_type": "stream",
     "text": [
      "219\n",
      "219\n"
     ]
    }
   ],
   "source": [
    "x = np.array([[1,2],[3,4]])\n",
    "y = np.array([[5,6],[7,8]])\n",
    "\n",
    "v = np.array([9,10])\n",
    "w = np.array([11, 12])\n",
    "\n",
    "# Inner product of vectors; both produce 219\n",
    "print(v.dot(w))\n",
    "print(np.dot(v, w))"
   ]
  },
  {
   "cell_type": "code",
   "execution_count": 28,
   "metadata": {
    "jupyter": {
     "outputs_hidden": true
    }
   },
   "outputs": [
    {
     "name": "stdout",
     "output_type": "stream",
     "text": [
      "[29 67]\n",
      "[29 67]\n"
     ]
    }
   ],
   "source": [
    "# Matrix / vector product; both produce the rank 1 array [29 67]\n",
    "print(x.dot(v))\n",
    "print(np.dot(x, v))"
   ]
  },
  {
   "cell_type": "code",
   "execution_count": 29,
   "metadata": {
    "jupyter": {
     "outputs_hidden": true
    }
   },
   "outputs": [
    {
     "name": "stdout",
     "output_type": "stream",
     "text": [
      "[[19 22]\n",
      " [43 50]]\n",
      "[[19 22]\n",
      " [43 50]]\n"
     ]
    }
   ],
   "source": [
    "# Matrix / matrix product; both produce the rank 2 array\n",
    "# [[19 22]\n",
    "#  [43 50]]\n",
    "print(x.dot(y))\n",
    "print(np.dot(x, y))"
   ]
  },
  {
   "cell_type": "markdown",
   "metadata": {},
   "source": [
    "Numpy provides many useful functions for performing computations on arrays; one of the most useful is `sum`:"
   ]
  },
  {
   "cell_type": "code",
   "execution_count": 30,
   "metadata": {
    "jupyter": {
     "outputs_hidden": true
    }
   },
   "outputs": [
    {
     "name": "stdout",
     "output_type": "stream",
     "text": [
      "10\n",
      "[4 6]\n",
      "[3 7]\n"
     ]
    }
   ],
   "source": [
    "x = np.array([[1,2],[3,4]])\n",
    "\n",
    "print(np.sum(x))  # Compute sum of all elements; prints \"10\"\n",
    "print(np.sum(x, axis=0))  # Compute sum of each column; prints \"[4 6]\"\n",
    "print(np.sum(x, axis=1))  # Compute sum of each row; prints \"[3 7]\""
   ]
  },
  {
   "cell_type": "markdown",
   "metadata": {},
   "source": [
    "You can find the full list of mathematical functions provided by numpy in the [documentation](http://docs.scipy.org/doc/numpy/reference/routines.math.html).\n",
    "\n",
    "Apart from computing mathematical functions using arrays, we frequently need to reshape or otherwise manipulate data in arrays. The simplest example of this type of operation is transposing a matrix; to transpose a matrix, simply use the `T` attribute of an array object:"
   ]
  },
  {
   "cell_type": "code",
   "execution_count": 31,
   "metadata": {
    "jupyter": {
     "outputs_hidden": true
    }
   },
   "outputs": [
    {
     "name": "stdout",
     "output_type": "stream",
     "text": [
      "[[1 2]\n",
      " [3 4]]\n",
      "[[1 3]\n",
      " [2 4]]\n"
     ]
    }
   ],
   "source": [
    "print(x)\n",
    "print(x.T)"
   ]
  },
  {
   "cell_type": "code",
   "execution_count": 32,
   "metadata": {
    "jupyter": {
     "outputs_hidden": true
    }
   },
   "outputs": [
    {
     "name": "stdout",
     "output_type": "stream",
     "text": [
      "[[1 2 3]]\n",
      "[[1]\n",
      " [2]\n",
      " [3]]\n"
     ]
    }
   ],
   "source": [
    "v = np.array([[1,2,3]])\n",
    "print(v) \n",
    "print(v.T)"
   ]
  },
  {
   "cell_type": "markdown",
   "metadata": {},
   "source": [
    "## Matplotlib"
   ]
  },
  {
   "cell_type": "markdown",
   "metadata": {},
   "source": [
    "Matplotlib is a plotting library. In this section give a brief introduction to the `matplotlib.pyplot` module, which provides a plotting system similar to that of MATLAB."
   ]
  },
  {
   "cell_type": "code",
   "execution_count": 33,
   "metadata": {
    "jupyter": {
     "outputs_hidden": true
    }
   },
   "outputs": [],
   "source": [
    "import matplotlib.pyplot as plt"
   ]
  },
  {
   "cell_type": "markdown",
   "metadata": {},
   "source": [
    "By running this special iPython command, we will be displaying plots inline:"
   ]
  },
  {
   "cell_type": "code",
   "execution_count": 34,
   "metadata": {
    "jupyter": {
     "outputs_hidden": true
    }
   },
   "outputs": [],
   "source": [
    "%matplotlib inline"
   ]
  },
  {
   "cell_type": "markdown",
   "metadata": {},
   "source": [
    "### Plotting"
   ]
  },
  {
   "cell_type": "markdown",
   "metadata": {},
   "source": [
    "The most important function in `matplotlib` is plot, which allows you to plot 2D data. Here is a simple example:"
   ]
  },
  {
   "cell_type": "code",
   "execution_count": 35,
   "metadata": {
    "jupyter": {
     "outputs_hidden": true
    }
   },
   "outputs": [
    {
     "data": {
      "text/plain": [
       "[<matplotlib.lines.Line2D at 0x2ba46f0f700>]"
      ]
     },
     "execution_count": 35,
     "metadata": {},
     "output_type": "execute_result"
    },
    {
     "data": {
      "image/png": "[encoded data removed]",
      "text/plain": [
       "<Figure size 432x288 with 1 Axes>"
      ]
     },
     "metadata": {
      "needs_background": "light"
     },
     "output_type": "display_data"
    }
   ],
   "source": [
    "# Compute the x and y coordinates for points on a sine curve\n",
    "x = np.arange(0, 3 * np.pi, 0.01)\n",
    "y = np.sin(x)\n",
    "\n",
    "# Plot the points using matplotlib\n",
    "plt.plot(x, y)"
   ]
  },
  {
   "cell_type": "markdown",
   "metadata": {},
   "source": [
    "With just a little bit of extra work we can easily plot multiple lines at once, and add a title, legend, and axis labels:"
   ]
  },
  {
   "cell_type": "code",
   "execution_count": 36,
   "metadata": {
    "jupyter": {
     "outputs_hidden": true
    }
   },
   "outputs": [
    {
     "data": {
      "text/plain": [
       "<matplotlib.legend.Legend at 0x2ba46fa8d60>"
      ]
     },
     "execution_count": 36,
     "metadata": {},
     "output_type": "execute_result"
    },
    {
     "data": {
      "image/png": "[encoded data removed]",
      "text/plain": [
       "<Figure size 432x288 with 1 Axes>"
      ]
     },
     "metadata": {
      "needs_background": "light"
     },
     "output_type": "display_data"
    }
   ],
   "source": [
    "y_sin = np.sin(x)\n",
    "y_cos = np.cos(x)\n",
    "\n",
    "# Plot the points using matplotlib\n",
    "plt.plot(x, y_sin)\n",
    "plt.plot(x, y_cos)\n",
    "plt.xlabel('x axis label')\n",
    "plt.ylabel('y axis label')\n",
    "plt.title('Sine and Cosine')\n",
    "plt.legend(['Sine', 'Cosine'])"
   ]
  },
  {
   "cell_type": "markdown",
   "metadata": {},
   "source": [
    "### Subplots "
   ]
  },
  {
   "cell_type": "markdown",
   "metadata": {},
   "source": [
    "You can plot different things in the same figure using the subplot function. You have to add `plt.show`Here is an example."
   ]
  },
  {
   "cell_type": "code",
   "execution_count": 37,
   "metadata": {
    "jupyter": {
     "outputs_hidden": true
    }
   },
   "outputs": [
    {
     "data": {
      "image/png": "[encoded data removed]",
      "text/plain": [
       "<Figure size 432x288 with 2 Axes>"
      ]
     },
     "metadata": {
      "needs_background": "light"
     },
     "output_type": "display_data"
    }
   ],
   "source": [
    "# Compute the x and y coordinates for points on sine and cosine curves\n",
    "x = np.arange(0, 3 * np.pi, 0.1)\n",
    "y_sin = np.sin(x)\n",
    "y_cos = np.cos(x)\n",
    "\n",
    "# Set up a subplot grid that has height 2 and width 1,\n",
    "# and set the first such subplot as active.\n",
    "plt.subplot(2, 1, 1)\n",
    "\n",
    "# Make the first plot\n",
    "plt.plot(x, y_sin)\n",
    "plt.title('Sine')\n",
    "\n",
    "# Set the second subplot as active, and make the second plot.\n",
    "plt.subplot(2, 1, 2)\n",
    "plt.plot(x, y_cos)\n",
    "plt.title('Cosine')\n",
    "\n",
    "# Show the figure.\n",
    "plt.show()"
   ]
  },
  {
   "cell_type": "markdown",
   "metadata": {},
   "source": [
    "# Section 2: Linear Regression\n"
   ]
  },
  {
   "cell_type": "markdown",
   "metadata": {},
   "source": [
    "## Reading data from a CSV file\n",
    "\n",
    "We first read the cat data set from a local comma separated value (CSV) file, and store the body and heart weights in two arrays. "
   ]
  },
  {
   "cell_type": "markdown",
   "metadata": {},
   "source": [
    "We will use the [genfromtxt](https://docs.scipy.org/doc/numpy-1.13.0/reference/generated/numpy.genfromtxt.html) function in NumPy to read the data set from a CSV file located at some URL.\n",
    "\n",
    "    np.genfromtxt(url, delimiter=None, skip_header=0, usecols=None) \n",
    "\n",
    "This function takes several arguments, including: \n",
    "\n",
    "* `url`: a string that specifies a file name or an URL for the CSV file, \n",
    "* `delimiter`: a string used to separate value, \n",
    "* `skip_header`: an int indicates the number of lines to skip at the beginning of the file,  \n",
    "* `usecols`: a sequence indicating which columns to read, with 0 as first column. \n",
    "            \n",
    "We can read data from the file and store them into a variable named `cats` using the following line. You can see that `cats` is a NumPy array with two columns. The first column is the body weight, while the second column is the heart weight."
   ]
  },
  {
   "cell_type": "code",
   "execution_count": 38,
   "metadata": {
    "jupyter": {
     "outputs_hidden": true
    }
   },
   "outputs": [
    {
     "data": {
      "text/plain": [
       "array([[ 2. ,  7. ],\n",
       "       [ 2. ,  7.4],\n",
       "       [ 2. ,  9.5],\n",
       "       [ 2.1,  7.2],\n",
       "       [ 2.1,  7.3],\n",
       "       [ 2.1,  7.6],\n",
       "       [ 2.1,  8.1],\n",
       "       [ 2.1,  8.2],\n",
       "       [ 2.1,  8.3],\n",
       "       [ 2.1,  8.5],\n",
       "       [ 2.1,  8.7],\n",
       "       [ 2.1,  9.8],\n",
       "       [ 2.2,  7.1],\n",
       "       [ 2.2,  8.7],\n",
       "       [ 2.2,  9.1],\n",
       "       [ 2.2,  9.7],\n",
       "       [ 2.2, 10.9],\n",
       "       [ 2.2, 11. ],\n",
       "       [ 2.3,  7.3],\n",
       "       [ 2.3,  7.9],\n",
       "       [ 2.3,  8.4],\n",
       "       [ 2.3,  9. ],\n",
       "       [ 2.3,  9. ],\n",
       "       [ 2.3,  9.5],\n",
       "       [ 2.3,  9.6],\n",
       "       [ 2.3,  9.7],\n",
       "       [ 2.3, 10.1],\n",
       "       [ 2.3, 10.1],\n",
       "       [ 2.3, 10.6],\n",
       "       [ 2.3, 11.2],\n",
       "       [ 2.4,  6.3],\n",
       "       [ 2.4,  8.7],\n",
       "       [ 2.4,  8.8],\n",
       "       [ 2.4, 10.2],\n",
       "       [ 2.5,  9. ],\n",
       "       [ 2.5, 10.9],\n",
       "       [ 2.6,  8.7],\n",
       "       [ 2.6, 10.1],\n",
       "       [ 2.6, 10.1],\n",
       "       [ 2.7,  8.5],\n",
       "       [ 2.7, 10.2],\n",
       "       [ 2.7, 10.8],\n",
       "       [ 2.9,  9.9],\n",
       "       [ 2.9, 10.1],\n",
       "       [ 2.9, 10.1],\n",
       "       [ 3. , 10.6],\n",
       "       [ 3. , 13. ],\n",
       "       [ 2. ,  6.5],\n",
       "       [ 2. ,  6.5],\n",
       "       [ 2.1, 10.1],\n",
       "       [ 2.2,  7.2],\n",
       "       [ 2.2,  7.6],\n",
       "       [ 2.2,  7.9],\n",
       "       [ 2.2,  8.5],\n",
       "       [ 2.2,  9.1],\n",
       "       [ 2.2,  9.6],\n",
       "       [ 2.2,  9.6],\n",
       "       [ 2.2, 10.7],\n",
       "       [ 2.3,  9.6],\n",
       "       [ 2.4,  7.3],\n",
       "       [ 2.4,  7.9],\n",
       "       [ 2.4,  7.9],\n",
       "       [ 2.4,  9.1],\n",
       "       [ 2.4,  9.3],\n",
       "       [ 2.5,  7.9],\n",
       "       [ 2.5,  8.6],\n",
       "       [ 2.5,  8.8],\n",
       "       [ 2.5,  8.8],\n",
       "       [ 2.5,  9.3],\n",
       "       [ 2.5, 11. ],\n",
       "       [ 2.5, 12.7],\n",
       "       [ 2.5, 12.7],\n",
       "       [ 2.6,  7.7],\n",
       "       [ 2.6,  8.3],\n",
       "       [ 2.6,  9.4],\n",
       "       [ 2.6,  9.4],\n",
       "       [ 2.6, 10.5],\n",
       "       [ 2.6, 11.5],\n",
       "       [ 2.7,  8. ],\n",
       "       [ 2.7,  9. ],\n",
       "       [ 2.7,  9.6],\n",
       "       [ 2.7,  9.6],\n",
       "       [ 2.7,  9.8],\n",
       "       [ 2.7, 10.4],\n",
       "       [ 2.7, 11.1],\n",
       "       [ 2.7, 12. ],\n",
       "       [ 2.7, 12.5],\n",
       "       [ 2.8,  9.1],\n",
       "       [ 2.8, 10. ],\n",
       "       [ 2.8, 10.2],\n",
       "       [ 2.8, 11.4],\n",
       "       [ 2.8, 12. ],\n",
       "       [ 2.8, 13.3],\n",
       "       [ 2.8, 13.5],\n",
       "       [ 2.9,  9.4],\n",
       "       [ 2.9, 10.1],\n",
       "       [ 2.9, 10.6],\n",
       "       [ 2.9, 11.3],\n",
       "       [ 2.9, 11.8],\n",
       "       [ 3. , 10. ],\n",
       "       [ 3. , 10.4],\n",
       "       [ 3. , 10.6],\n",
       "       [ 3. , 11.6],\n",
       "       [ 3. , 12.2],\n",
       "       [ 3. , 12.4],\n",
       "       [ 3. , 12.7],\n",
       "       [ 3. , 13.3],\n",
       "       [ 3. , 13.8],\n",
       "       [ 3.1,  9.9],\n",
       "       [ 3.1, 11.5],\n",
       "       [ 3.1, 12.1],\n",
       "       [ 3.1, 12.5],\n",
       "       [ 3.1, 13. ],\n",
       "       [ 3.1, 14.3],\n",
       "       [ 3.2, 11.6],\n",
       "       [ 3.2, 11.9],\n",
       "       [ 3.2, 12.3],\n",
       "       [ 3.2, 13. ],\n",
       "       [ 3.2, 13.5],\n",
       "       [ 3.2, 13.6],\n",
       "       [ 3.3, 11.5],\n",
       "       [ 3.3, 12. ],\n",
       "       [ 3.3, 14.1],\n",
       "       [ 3.3, 14.9],\n",
       "       [ 3.3, 15.4],\n",
       "       [ 3.4, 11.2],\n",
       "       [ 3.4, 12.2],\n",
       "       [ 3.4, 12.4],\n",
       "       [ 3.4, 12.8],\n",
       "       [ 3.4, 14.4],\n",
       "       [ 3.5, 11.7],\n",
       "       [ 3.5, 12.9],\n",
       "       [ 3.5, 15.6],\n",
       "       [ 3.5, 15.7],\n",
       "       [ 3.5, 17.2],\n",
       "       [ 3.6, 11.8],\n",
       "       [ 3.6, 13.3],\n",
       "       [ 3.6, 14.8],\n",
       "       [ 3.6, 15. ],\n",
       "       [ 3.7, 11. ],\n",
       "       [ 3.8, 14.8],\n",
       "       [ 3.8, 16.8],\n",
       "       [ 3.9, 14.4],\n",
       "       [ 3.9, 20.5]])"
      ]
     },
     "execution_count": 38,
     "metadata": {},
     "output_type": "execute_result"
    }
   ],
   "source": [
    "# Read the data from file\n",
    "url = \"http://www.cs.bham.ac.uk/~lehrepk/nc/cats.csv\"\n",
    "cats = np.genfromtxt(url, delimiter=\",\", skip_header=1, usecols=(1,2))\n",
    "\n",
    "# print out the content of cats\n",
    "cats"
   ]
  },
  {
   "cell_type": "markdown",
   "metadata": {},
   "source": [
    "Now we are going to use a variable named `body_weight` to store all body weight (the first column in the `cats` array). To do so, we call a function `T` (transpose) to convert two columns into two rows. Each row now can be accessed by specifying the row number inside a square bracket. The following line will extract all data from the first column of the cats array and store them into the variable body_weight. "
   ]
  },
  {
   "cell_type": "code",
   "execution_count": 39,
   "metadata": {
    "jupyter": {
     "outputs_hidden": true
    }
   },
   "outputs": [
    {
     "data": {
      "text/plain": [
       "array([2. , 2. , 2. , 2.1, 2.1, 2.1, 2.1, 2.1, 2.1, 2.1, 2.1, 2.1, 2.2,\n",
       "       2.2, 2.2, 2.2, 2.2, 2.2, 2.3, 2.3, 2.3, 2.3, 2.3, 2.3, 2.3, 2.3,\n",
       "       2.3, 2.3, 2.3, 2.3, 2.4, 2.4, 2.4, 2.4, 2.5, 2.5, 2.6, 2.6, 2.6,\n",
       "       2.7, 2.7, 2.7, 2.9, 2.9, 2.9, 3. , 3. , 2. , 2. , 2.1, 2.2, 2.2,\n",
       "       2.2, 2.2, 2.2, 2.2, 2.2, 2.2, 2.3, 2.4, 2.4, 2.4, 2.4, 2.4, 2.5,\n",
       "       2.5, 2.5, 2.5, 2.5, 2.5, 2.5, 2.5, 2.6, 2.6, 2.6, 2.6, 2.6, 2.6,\n",
       "       2.7, 2.7, 2.7, 2.7, 2.7, 2.7, 2.7, 2.7, 2.7, 2.8, 2.8, 2.8, 2.8,\n",
       "       2.8, 2.8, 2.8, 2.9, 2.9, 2.9, 2.9, 2.9, 3. , 3. , 3. , 3. , 3. ,\n",
       "       3. , 3. , 3. , 3. , 3.1, 3.1, 3.1, 3.1, 3.1, 3.1, 3.2, 3.2, 3.2,\n",
       "       3.2, 3.2, 3.2, 3.3, 3.3, 3.3, 3.3, 3.3, 3.4, 3.4, 3.4, 3.4, 3.4,\n",
       "       3.5, 3.5, 3.5, 3.5, 3.5, 3.6, 3.6, 3.6, 3.6, 3.7, 3.8, 3.8, 3.9,\n",
       "       3.9])"
      ]
     },
     "execution_count": 39,
     "metadata": {},
     "output_type": "execute_result"
    }
   ],
   "source": [
    "# extract body_weight data from cats variable\n",
    "body_weight = cats.T[0]\n",
    "body_weight"
   ]
  },
  {
   "cell_type": "markdown",
   "metadata": {},
   "source": [
    "You should now complete the next code block in order to copy the second column in an array `heart_weight`."
   ]
  },
  {
   "cell_type": "code",
   "execution_count": 40,
   "metadata": {
    "jupyter": {
     "outputs_hidden": true
    }
   },
   "outputs": [],
   "source": [
    "# write your code to extract data from second column here\n",
    "heart_weight = cats.T[1]"
   ]
  },
  {
   "cell_type": "markdown",
   "metadata": {},
   "source": [
    "## Visualising the data\n",
    "We will now visualise the relationship between body and heart weights of the cats using a scatter plot using the [`scatter`](https://matplotlib.org/devdocs/api/_as_gen/matplotlib.pyplot.scatter.html) function in the matplotlib.pylot module. This function can be called as follows:\n",
    "\n",
    "    plt.scatter( x , y )\n",
    "    \n",
    "The two arguments `x` and `y` are the input data. We can label the `x`- and `y`-axes as follows: \n",
    "\n",
    "    plt.xlabel(\"x_label_here\") \n",
    "    plt.ylabel(\"y_label_here\") \n",
    "    \n",
    "The function scatter has many additional arguments, as [described in the reference manual]([`scatter`](https://matplotlib.org/devdocs/api/_as_gen/matplotlib.pyplot.scatter.html). \n",
    "\n",
    "Now, you should make a scatter plot of the heart weight versus body weight. You should label the x- and y-axes by \"Body weight (kg)\" and \"Heart weight (gm)\". Hint: Remember to include `plt.show()` at the end; otherwise, the scatter plot is not shown."
   ]
  },
  {
   "cell_type": "code",
   "execution_count": 41,
   "metadata": {
    "jupyter": {
     "outputs_hidden": true
    }
   },
   "outputs": [
    {
     "data": {
      "text/plain": [
       "Text(0, 0.5, 'Body weight')"
      ]
     },
     "execution_count": 41,
     "metadata": {},
     "output_type": "execute_result"
    },
    {
     "data": {
      "image/png": "[encoded data removed]",
      "text/plain": [
       "<Figure size 432x288 with 1 Axes>"
      ]
     },
     "metadata": {
      "needs_background": "light"
     },
     "output_type": "display_data"
    }
   ],
   "source": [
    "# Insert your code to make the scatter plot here.\n",
    "plt.scatter(heart_weight, body_weight)\n",
    "plt.xlabel(\"Heart weight\") \n",
    "plt.ylabel(\"Body weight\") "
   ]
  },
  {
   "cell_type": "markdown",
   "metadata": {},
   "source": [
    "## Defining a Linear Model\n",
    "\n",
    "A linear regression model in one variable has the following form $f(x) = wx+b$, where $x$ is the input, $w$ is called the weight and $b$ is known as the bias. As discussed in the lecture, we simplify the model even more by assuming $b=0$. The model now becomes $f(x)=wx$. If you sketch this model on xy coordinate system, it is a straight line passing through the origin with slope $w$. (i.e. derivative). \n",
    "\n",
    "The purpose of generating such a model is to predict an output (cat heart weight) given an input (cat body weight). Given the model parameter $w$ and the new input $x$, the output predicted by our simple model is $wx$. We will define a function named `linearmodel(x,w)` which represents this model. The function takes two arguments, the model parameter $w$ and the input $x$, and it returns the predicted output $wx$. Please refer to last week's lab sheet for a brief introduction to function definition in Python.\n",
    "\n",
    "Now, you should define the function `linearmodel` as described above."
   ]
  },
  {
   "cell_type": "code",
   "execution_count": 42,
   "metadata": {
    "jupyter": {
     "outputs_hidden": true
    }
   },
   "outputs": [],
   "source": [
    "# Insert code to define the linearmodel function here.\n",
    "def linearmodel(x,w):\n",
    "    bias = 0\n",
    "    return w*x + bias"
   ]
  },
  {
   "cell_type": "markdown",
   "metadata": {},
   "source": [
    "We will visualise the cat data set together with the linear regression model for a given weight parameter $w$. Let's consider the following block of codes.\n",
    "\n",
    "    w = 3.907111\n",
    "    x = np.arange(2.0, 4.0, 0.2)\n",
    "    plt.plot(x, linearmodel(x,w), 'r-')\n",
    "    plt.show()\n",
    "    \n",
    "The first line assigns a value of 3.907111 to the weight $w$. The function call `np.arange(x,y,z)` returns an array of evenly separated values, starting from x to y (excluding) with step size of z. For example, np.arange(3,7,2) yields an array consisting of 3 and 5 only. The `plt.plot()` function call is then invoked to plot the linear model for a given weight. Notice that the data set drawn on the y-axis in this case will be the set of output values received from calling the function `linearmodel(x,w)` once for each element in the array `x`. The argument `'r-'` specifies that we want to plot a solid red line.\n",
    "\n",
    "Write code to plot this simple linear model for the cats data set. You have to plot the cats data set first (use code from the previous exercise, and remove the `plt.show()` in the end), and then add the code to plot the linear model. Remember to add `plt.show()` in the end, otherwise the plot is not displayed."
   ]
  },
  {
   "cell_type": "code",
   "execution_count": 43,
   "metadata": {
    "jupyter": {
     "outputs_hidden": true
    }
   },
   "outputs": [
    {
     "data": {
      "image/png": "[encoded data removed]",
      "text/plain": [
       "<Figure size 432x288 with 1 Axes>"
      ]
     },
     "metadata": {
      "needs_background": "light"
     },
     "output_type": "display_data"
    }
   ],
   "source": [
    "# Add your previous code to plot a scatter here without plt.show() at the end.\n",
    "w = 3.907111\n",
    "x = body_weight\n",
    "plt.scatter(x, heart_weight)\n",
    "\n",
    "# Plot the linear regression model f(x) = x*w here as solid red line (r-) in the interval [2,4).\n",
    "plt.plot(x, linearmodel(x,w), 'r-')\n",
    "plt.show()"
   ]
  },
  {
   "cell_type": "markdown",
   "metadata": {},
   "source": [
    "## Ordinary Least Square Solution\n",
    "As you can see from the lecture notes, we define a cost function as follows.\n",
    "\n",
    "$$J(w) = \\frac{1}{n}{\\sum_{i=1}^n}\\frac{1}{2}(y^{(i)}-wx^{(i)})^2$$\n",
    "\n",
    "By solving the equation $J'(w)=0$ for $w$, We obtain the ordinary least square solution\n",
    "\n",
    "$$w = \\frac{\\sum_{i=1}^n x^{(i)}y^{(i)}}{\\sum_{i=1}^n (x^{(i)})^2}$$\n",
    "\n",
    "Here in order to calculate the numerator, we have to calculate $n$ products $x^{(i)}y^{(i)}$ (for $i=1,2,...,n$), and then sum them up. We have to do the same number of steps for the denominator. \n",
    "\n",
    "Perhaps the most immediate way of computing these expressions in Python would be to use two for-loops. However, by realising that the numerator and denumerator are dot products between two vectors, we can take advantage of NumPy's efficient routines.\n",
    "The dot product between two vectors $x = (x^{(1)}, x^{(2)},\\ldots,x^{(n)})$ and $y=(y^{(1)}, y^{(2)},\\ldots,y^{(n)})$ is $x\\cdot y = \\sum_{i=1}^n x^{(i)}y^{(i)}$. The formula to calculate $w$ above can be now rewritten as \n",
    "\n",
    "$$w = \\frac{x\\cdot y}{x\\cdot x}.$$\n",
    "\n",
    "To compute the dot product between two vectors $x$ and $y$, we can invoke the NumPy function `np.dot(x,y)`. \n",
    "\n",
    "Implement a function `ols` which takes two arguments $x$ and $y$, and which returns the value of the weight parameter $w$ according to the formula above."
   ]
  },
  {
   "cell_type": "code",
   "execution_count": 44,
   "metadata": {
    "jupyter": {
     "outputs_hidden": true
    }
   },
   "outputs": [],
   "source": [
    "# define your ols function here\n",
    "def ols(x, y):\n",
    "    return np.dot(x,y)/np.dot(x,x)"
   ]
  },
  {
   "cell_type": "markdown",
   "metadata": {},
   "source": [
    "Now call the function `ols` with the arrays `body_weight` and `heart_weight` as arguments. What is the value of weight $w$ you obtain?"
   ]
  },
  {
   "cell_type": "code",
   "execution_count": 45,
   "metadata": {
    "jupyter": {
     "outputs_hidden": true
    }
   },
   "outputs": [
    {
     "data": {
      "text/plain": [
       "3.90711329727375"
      ]
     },
     "execution_count": 45,
     "metadata": {},
     "output_type": "execute_result"
    }
   ],
   "source": [
    "# call the ols function here\n",
    "ols(body_weight, heart_weight)"
   ]
  },
  {
   "cell_type": "markdown",
   "metadata": {},
   "source": [
    "## Defining a Cost Function\n",
    "\n",
    "The following two functions computes the cost function $J(w)$ and its derivative $J'(w)$ (or $\\nabla J(w)$), defined above using the data set. Here we make use of function `np.sum()` to perform the summation of two vectors. \n",
    "\n",
    "Note that in the notation of the cost function $J(w)$, we omit the input `X` (i.e., body_weight) and \n",
    "target `Y` (i.e., heart_weight), but we have to include them when defining the cost function in Python. "
   ]
  },
  {
   "cell_type": "code",
   "execution_count": 46,
   "metadata": {
    "jupyter": {
     "outputs_hidden": true
    }
   },
   "outputs": [],
   "source": [
    "# cost function\n",
    "def J(w, X, Y):\n",
    "    return 0.5*(np.sum((Y - linearmodel(X, w)))**2)\n",
    "\n",
    "# derivative of the cost function\n",
    "def J_d(w, X, Y):\n",
    "    return np.dot(X.T, (linearmodel(X, w)-Y))"
   ]
  },
  {
   "cell_type": "markdown",
   "metadata": {},
   "source": [
    "We assign some values to $w$, using a `np.arange(start, stop, step)` function call as follows:\n",
    "\n",
    "    w = np.arange(2.9,5.0,0.01)\n",
    "    \n",
    "The corresponding values of $J(w)$ can be computed using list comprehension as follows. \n",
    "\n",
    "    [J(i) for i in w] \n",
    "    \n",
    "In this statement, we call function $J(i)$ for each value $i$ in the list $w$. \n",
    "The result of this statement will be a list $[J(w_1), J(w_2),\\ldots,J(w_n)]$. If you do not know what list comprehension is, please refer to last week's lab sheet.\n",
    "   \n",
    "Can you plot the loss function for values of weight $w$ given above? Remember to label the x- and y-axis as \"w\" and \"J(w)\", respectively, and include plt.show() at the end. "
   ]
  },
  {
   "cell_type": "code",
   "execution_count": 47,
   "metadata": {
    "jupyter": {
     "outputs_hidden": true
    }
   },
   "outputs": [
    {
     "data": {
      "image/png": "[encoded data removed]",
      "text/plain": [
       "<Figure size 432x288 with 1 Axes>"
      ]
     },
     "metadata": {
      "needs_background": "light"
     },
     "output_type": "display_data"
    }
   ],
   "source": [
    "# plot the loss function here\n",
    "w = np.arange(2.9, 5.0, 0.01)\n",
    "y = [J(i, body_weight, heart_weight) for i in w]\n",
    "plt.plot(w, y)\n",
    "plt.show()"
   ]
  },
  {
   "cell_type": "markdown",
   "metadata": {},
   "source": [
    "By looking at the plot you have just drawn, can you roughly estimate for which value of $w$ the loss function has minimum value?"
   ]
  },
  {
   "cell_type": "markdown",
   "metadata": {},
   "source": [
    "## Gradient Descent Algorithm in One-Dimensional Space\n",
    "\n",
    "In this final section, we are going to use the gradient descend method to find  $w^{*} = \\text{arg min}_w J(w)$, that is, the value of parameter $w$ such that $J(w)$ reaches the (locally) minimum value. In gradient descent, we usually work with an *iterative update scheme* for the weight $w$: \n",
    "$$w^{(t+1)} \\leftarrow w^{(t)} + \\Delta w,$$ \n",
    "where $\\Delta w = -\\epsilon \\cdot \\nabla J(w^{(t)})$ for some (often constant) learning rate $\\epsilon$ and the gradient $\\nabla J$ evaluated at current parameter value $w^{(t)}$. Intuitively speaking, we update the parameters in each iteration in the *opposite* direction of the gradient. The update rule can be formally written as follows.\n",
    "\n",
    "$$w^{(t+1)} \\leftarrow w^{(t)} - \\epsilon\\cdot  \\nabla J(w^{(t)}).$$\n",
    "\n",
    "The following (partial) code first sets up a canvas to illustrate visually how gradient descent works on the loss function $J(w)$. Here we use a learning rate $\\epsilon = 0.0001$ and initial weight $w_0 = 2.5$. A for-loop will iteratively update the value of weight $w$ (see the body of the for-loop). After each update, the new value of weight $w$ will be plotted, and over time, it shows clearly how the weight is updated until coverging to the global optimum. \n",
    "\n",
    "Complete the code below so that the parameter $w$ is updated via gradient descent."
   ]
  },
  {
   "cell_type": "code",
   "execution_count": null,
   "metadata": {
    "jupyter": {
     "outputs_hidden": true
    },
    "scrolled": true
   },
   "outputs": [
    {
     "data": {
      "application/javascript": [
       "/* Put everything inside the global mpl namespace */\n",
       "window.mpl = {};\n",
       "\n",
       "\n",
       "mpl.get_websocket_type = function() {\n",
       "    if (typeof(WebSocket) !== 'undefined') {\n",
       "        return WebSocket;\n",
       "    } else if (typeof(MozWebSocket) !== 'undefined') {\n",
       "        return MozWebSocket;\n",
       "    } else {\n",
       "        alert('Your browser does not have WebSocket support. ' +\n",
       "              'Please try Chrome, Safari or Firefox ≥ 6. ' +\n",
       "              'Firefox 4 and 5 are also supported but you ' +\n",
       "              'have to enable WebSockets in about:config.');\n",
       "    };\n",
       "}\n",
       "\n",
       "mpl.figure = function(figure_id, websocket, ondownload, parent_element) {\n",
       "    this.id = figure_id;\n",
       "\n",
       "    this.ws = websocket;\n",
       "\n",
       "    this.supports_binary = (this.ws.binaryType != undefined);\n",
       "\n",
       "    if (!this.supports_binary) {\n",
       "        var warnings = document.getElementById(\"mpl-warnings\");\n",
       "        if (warnings) {\n",
       "            warnings.style.display = 'block';\n",
       "            warnings.textContent = (\n",
       "                \"This browser does not support binary websocket messages. \" +\n",
       "                    \"Performance may be slow.\");\n",
       "        }\n",
       "    }\n",
       "\n",
       "    this.imageObj = new Image();\n",
       "\n",
       "    this.context = undefined;\n",
       "    this.message = undefined;\n",
       "    this.canvas = undefined;\n",
       "    this.rubberband_canvas = undefined;\n",
       "    this.rubberband_context = undefined;\n",
       "    this.format_dropdown = undefined;\n",
       "\n",
       "    this.image_mode = 'full';\n",
       "\n",
       "    this.root = $('<div/>');\n",
       "    this._root_extra_style(this.root)\n",
       "    this.root.attr('style', 'display: inline-block');\n",
       "\n",
       "    $(parent_element).append(this.root);\n",
       "\n",
       "    this._init_header(this);\n",
       "    this._init_canvas(this);\n",
       "    this._init_toolbar(this);\n",
       "\n",
       "    var fig = this;\n",
       "\n",
       "    this.waiting = false;\n",
       "\n",
       "    this.ws.onopen =  function () {\n",
       "            fig.send_message(\"supports_binary\", {value: fig.supports_binary});\n",
       "            fig.send_message(\"send_image_mode\", {});\n",
       "            if (mpl.ratio != 1) {\n",
       "                fig.send_message(\"set_dpi_ratio\", {'dpi_ratio': mpl.ratio});\n",
       "            }\n",
       "            fig.send_message(\"refresh\", {});\n",
       "        }\n",
       "\n",
       "    this.imageObj.onload = function() {\n",
       "            if (fig.image_mode == 'full') {\n",
       "                // Full images could contain transparency (where diff images\n",
       "                // almost always do), so we need to clear the canvas so that\n",
       "                // there is no ghosting.\n",
       "                fig.context.clearRect(0, 0, fig.canvas.width, fig.canvas.height);\n",
       "            }\n",
       "            fig.context.drawImage(fig.imageObj, 0, 0);\n",
       "        };\n",
       "\n",
       "    this.imageObj.onunload = function() {\n",
       "        fig.ws.close();\n",
       "    }\n",
       "\n",
       "    this.ws.onmessage = this._make_on_message_function(this);\n",
       "\n",
       "    this.ondownload = ondownload;\n",
       "}\n",
       "\n",
       "mpl.figure.prototype._init_header = function() {\n",
       "    var titlebar = $(\n",
       "        '<div class=\"ui-dialog-titlebar ui-widget-header ui-corner-all ' +\n",
       "        'ui-helper-clearfix\"/>');\n",
       "    var titletext = $(\n",
       "        '<div class=\"ui-dialog-title\" style=\"width: 100%; ' +\n",
       "        'text-align: center; padding: 3px;\"/>');\n",
       "    titlebar.append(titletext)\n",
       "    this.root.append(titlebar);\n",
       "    this.header = titletext[0];\n",
       "}\n",
       "\n",
       "\n",
       "\n",
       "mpl.figure.prototype._canvas_extra_style = function(canvas_div) {\n",
       "\n",
       "}\n",
       "\n",
       "\n",
       "mpl.figure.prototype._root_extra_style = function(canvas_div) {\n",
       "\n",
       "}\n",
       "\n",
       "mpl.figure.prototype._init_canvas = function() {\n",
       "    var fig = this;\n",
       "\n",
       "    var canvas_div = $('<div/>');\n",
       "\n",
       "    canvas_div.attr('style', 'position: relative; clear: both; outline: 0');\n",
       "\n",
       "    function canvas_keyboard_event(event) {\n",
       "        return fig.key_event(event, event['data']);\n",
       "    }\n",
       "\n",
       "    canvas_div.keydown('key_press', canvas_keyboard_event);\n",
       "    canvas_div.keyup('key_release', canvas_keyboard_event);\n",
       "    this.canvas_div = canvas_div\n",
       "    this._canvas_extra_style(canvas_div)\n",
       "    this.root.append(canvas_div);\n",
       "\n",
       "    var canvas = $('<canvas/>');\n",
       "    canvas.addClass('mpl-canvas');\n",
       "    canvas.attr('style', \"left: 0; top: 0; z-index: 0; outline: 0\")\n",
       "\n",
       "    this.canvas = canvas[0];\n",
       "    this.context = canvas[0].getContext(\"2d\");\n",
       "\n",
       "    var backingStore = this.context.backingStorePixelRatio ||\n",
       "\tthis.context.webkitBackingStorePixelRatio ||\n",
       "\tthis.context.mozBackingStorePixelRatio ||\n",
       "\tthis.context.msBackingStorePixelRatio ||\n",
       "\tthis.context.oBackingStorePixelRatio ||\n",
       "\tthis.context.backingStorePixelRatio || 1;\n",
       "\n",
       "    mpl.ratio = (window.devicePixelRatio || 1) / backingStore;\n",
       "\n",
       "    var rubberband = $('<canvas/>');\n",
       "    rubberband.attr('style', \"position: absolute; left: 0; top: 0; z-index: 1;\")\n",
       "\n",
       "    var pass_mouse_events = true;\n",
       "\n",
       "    canvas_div.resizable({\n",
       "        start: function(event, ui) {\n",
       "            pass_mouse_events = false;\n",
       "        },\n",
       "        resize: function(event, ui) {\n",
       "            fig.request_resize(ui.size.width, ui.size.height);\n",
       "        },\n",
       "        stop: function(event, ui) {\n",
       "            pass_mouse_events = true;\n",
       "            fig.request_resize(ui.size.width, ui.size.height);\n",
       "        },\n",
       "    });\n",
       "\n",
       "    function mouse_event_fn(event) {\n",
       "        if (pass_mouse_events)\n",
       "            return fig.mouse_event(event, event['data']);\n",
       "    }\n",
       "\n",
       "    rubberband.mousedown('button_press', mouse_event_fn);\n",
       "    rubberband.mouseup('button_release', mouse_event_fn);\n",
       "    // Throttle sequential mouse events to 1 every 20ms.\n",
       "    rubberband.mousemove('motion_notify', mouse_event_fn);\n",
       "\n",
       "    rubberband.mouseenter('figure_enter', mouse_event_fn);\n",
       "    rubberband.mouseleave('figure_leave', mouse_event_fn);\n",
       "\n",
       "    canvas_div.on(\"wheel\", function (event) {\n",
       "        event = event.originalEvent;\n",
       "        event['data'] = 'scroll'\n",
       "        if (event.deltaY < 0) {\n",
       "            event.step = 1;\n",
       "        } else {\n",
       "            event.step = -1;\n",
       "        }\n",
       "        mouse_event_fn(event);\n",
       "    });\n",
       "\n",
       "    canvas_div.append(canvas);\n",
       "    canvas_div.append(rubberband);\n",
       "\n",
       "    this.rubberband = rubberband;\n",
       "    this.rubberband_canvas = rubberband[0];\n",
       "    this.rubberband_context = rubberband[0].getContext(\"2d\");\n",
       "    this.rubberband_context.strokeStyle = \"#000000\";\n",
       "\n",
       "    this._resize_canvas = function(width, height) {\n",
       "        // Keep the size of the canvas, canvas container, and rubber band\n",
       "        // canvas in synch.\n",
       "        canvas_div.css('width', width)\n",
       "        canvas_div.css('height', height)\n",
       "\n",
       "        canvas.attr('width', width * mpl.ratio);\n",
       "        canvas.attr('height', height * mpl.ratio);\n",
       "        canvas.attr('style', 'width: ' + width + 'px; height: ' + height + 'px;');\n",
       "\n",
       "        rubberband.attr('width', width);\n",
       "        rubberband.attr('height', height);\n",
       "    }\n",
       "\n",
       "    // Set the figure to an initial 600x600px, this will subsequently be updated\n",
       "    // upon first draw.\n",
       "    this._resize_canvas(600, 600);\n",
       "\n",
       "    // Disable right mouse context menu.\n",
       "    $(this.rubberband_canvas).bind(\"contextmenu\",function(e){\n",
       "        return false;\n",
       "    });\n",
       "\n",
       "    function set_focus () {\n",
       "        canvas.focus();\n",
       "        canvas_div.focus();\n",
       "    }\n",
       "\n",
       "    window.setTimeout(set_focus, 100);\n",
       "}\n",
       "\n",
       "mpl.figure.prototype._init_toolbar = function() {\n",
       "    var fig = this;\n",
       "\n",
       "    var nav_element = $('<div/>');\n",
       "    nav_element.attr('style', 'width: 100%');\n",
       "    this.root.append(nav_element);\n",
       "\n",
       "    // Define a callback function for later on.\n",
       "    function toolbar_event(event) {\n",
       "        return fig.toolbar_button_onclick(event['data']);\n",
       "    }\n",
       "    function toolbar_mouse_event(event) {\n",
       "        return fig.toolbar_button_onmouseover(event['data']);\n",
       "    }\n",
       "\n",
       "    for(var toolbar_ind in mpl.toolbar_items) {\n",
       "        var name = mpl.toolbar_items[toolbar_ind][0];\n",
       "        var tooltip = mpl.toolbar_items[toolbar_ind][1];\n",
       "        var image = mpl.toolbar_items[toolbar_ind][2];\n",
       "        var method_name = mpl.toolbar_items[toolbar_ind][3];\n",
       "\n",
       "        if (!name) {\n",
       "            // put a spacer in here.\n",
       "            continue;\n",
       "        }\n",
       "        var button = $('<button/>');\n",
       "        button.addClass('ui-button ui-widget ui-state-default ui-corner-all ' +\n",
       "                        'ui-button-icon-only');\n",
       "        button.attr('role', 'button');\n",
       "        button.attr('aria-disabled', 'false');\n",
       "        button.click(method_name, toolbar_event);\n",
       "        button.mouseover(tooltip, toolbar_mouse_event);\n",
       "\n",
       "        var icon_img = $('<span/>');\n",
       "        icon_img.addClass('ui-button-icon-primary ui-icon');\n",
       "        icon_img.addClass(image);\n",
       "        icon_img.addClass('ui-corner-all');\n",
       "\n",
       "        var tooltip_span = $('<span/>');\n",
       "        tooltip_span.addClass('ui-button-text');\n",
       "        tooltip_span.html(tooltip);\n",
       "\n",
       "        button.append(icon_img);\n",
       "        button.append(tooltip_span);\n",
       "\n",
       "        nav_element.append(button);\n",
       "    }\n",
       "\n",
       "    var fmt_picker_span = $('<span/>');\n",
       "\n",
       "    var fmt_picker = $('<select/>');\n",
       "    fmt_picker.addClass('mpl-toolbar-option ui-widget ui-widget-content');\n",
       "    fmt_picker_span.append(fmt_picker);\n",
       "    nav_element.append(fmt_picker_span);\n",
       "    this.format_dropdown = fmt_picker[0];\n",
       "\n",
       "    for (var ind in mpl.extensions) {\n",
       "        var fmt = mpl.extensions[ind];\n",
       "        var option = $(\n",
       "            '<option/>', {selected: fmt === mpl.default_extension}).html(fmt);\n",
       "        fmt_picker.append(option);\n",
       "    }\n",
       "\n",
       "    // Add hover states to the ui-buttons\n",
       "    $( \".ui-button\" ).hover(\n",
       "        function() { $(this).addClass(\"ui-state-hover\");},\n",
       "        function() { $(this).removeClass(\"ui-state-hover\");}\n",
       "    );\n",
       "\n",
       "    var status_bar = $('<span class=\"mpl-message\"/>');\n",
       "    nav_element.append(status_bar);\n",
       "    this.message = status_bar[0];\n",
       "}\n",
       "\n",
       "mpl.figure.prototype.request_resize = function(x_pixels, y_pixels) {\n",
       "    // Request matplotlib to resize the figure. Matplotlib will then trigger a resize in the client,\n",
       "    // which will in turn request a refresh of the image.\n",
       "    this.send_message('resize', {'width': x_pixels, 'height': y_pixels});\n",
       "}\n",
       "\n",
       "mpl.figure.prototype.send_message = function(type, properties) {\n",
       "    properties['type'] = type;\n",
       "    properties['figure_id'] = this.id;\n",
       "    this.ws.send(JSON.stringify(properties));\n",
       "}\n",
       "\n",
       "mpl.figure.prototype.send_draw_message = function() {\n",
       "    if (!this.waiting) {\n",
       "        this.waiting = true;\n",
       "        this.ws.send(JSON.stringify({type: \"draw\", figure_id: this.id}));\n",
       "    }\n",
       "}\n",
       "\n",
       "\n",
       "mpl.figure.prototype.handle_save = function(fig, msg) {\n",
       "    var format_dropdown = fig.format_dropdown;\n",
       "    var format = format_dropdown.options[format_dropdown.selectedIndex].value;\n",
       "    fig.ondownload(fig, format);\n",
       "}\n",
       "\n",
       "\n",
       "mpl.figure.prototype.handle_resize = function(fig, msg) {\n",
       "    var size = msg['size'];\n",
       "    if (size[0] != fig.canvas.width || size[1] != fig.canvas.height) {\n",
       "        fig._resize_canvas(size[0], size[1]);\n",
       "        fig.send_message(\"refresh\", {});\n",
       "    };\n",
       "}\n",
       "\n",
       "mpl.figure.prototype.handle_rubberband = function(fig, msg) {\n",
       "    var x0 = msg['x0'] / mpl.ratio;\n",
       "    var y0 = (fig.canvas.height - msg['y0']) / mpl.ratio;\n",
       "    var x1 = msg['x1'] / mpl.ratio;\n",
       "    var y1 = (fig.canvas.height - msg['y1']) / mpl.ratio;\n",
       "    x0 = Math.floor(x0) + 0.5;\n",
       "    y0 = Math.floor(y0) + 0.5;\n",
       "    x1 = Math.floor(x1) + 0.5;\n",
       "    y1 = Math.floor(y1) + 0.5;\n",
       "    var min_x = Math.min(x0, x1);\n",
       "    var min_y = Math.min(y0, y1);\n",
       "    var width = Math.abs(x1 - x0);\n",
       "    var height = Math.abs(y1 - y0);\n",
       "\n",
       "    fig.rubberband_context.clearRect(\n",
       "        0, 0, fig.canvas.width / mpl.ratio, fig.canvas.height / mpl.ratio);\n",
       "\n",
       "    fig.rubberband_context.strokeRect(min_x, min_y, width, height);\n",
       "}\n",
       "\n",
       "mpl.figure.prototype.handle_figure_label = function(fig, msg) {\n",
       "    // Updates the figure title.\n",
       "    fig.header.textContent = msg['label'];\n",
       "}\n",
       "\n",
       "mpl.figure.prototype.handle_cursor = function(fig, msg) {\n",
       "    var cursor = msg['cursor'];\n",
       "    switch(cursor)\n",
       "    {\n",
       "    case 0:\n",
       "        cursor = 'pointer';\n",
       "        break;\n",
       "    case 1:\n",
       "        cursor = 'default';\n",
       "        break;\n",
       "    case 2:\n",
       "        cursor = 'crosshair';\n",
       "        break;\n",
       "    case 3:\n",
       "        cursor = 'move';\n",
       "        break;\n",
       "    }\n",
       "    fig.rubberband_canvas.style.cursor = cursor;\n",
       "}\n",
       "\n",
       "mpl.figure.prototype.handle_message = function(fig, msg) {\n",
       "    fig.message.textContent = msg['message'];\n",
       "}\n",
       "\n",
       "mpl.figure.prototype.handle_draw = function(fig, msg) {\n",
       "    // Request the server to send over a new figure.\n",
       "    fig.send_draw_message();\n",
       "}\n",
       "\n",
       "mpl.figure.prototype.handle_image_mode = function(fig, msg) {\n",
       "    fig.image_mode = msg['mode'];\n",
       "}\n",
       "\n",
       "mpl.figure.prototype.updated_canvas_event = function() {\n",
       "    // Called whenever the canvas gets updated.\n",
       "    this.send_message(\"ack\", {});\n",
       "}\n",
       "\n",
       "// A function to construct a web socket function for onmessage handling.\n",
       "// Called in the figure constructor.\n",
       "mpl.figure.prototype._make_on_message_function = function(fig) {\n",
       "    return function socket_on_message(evt) {\n",
       "        if (evt.data instanceof Blob) {\n",
       "            /* FIXME: We get \"Resource interpreted as Image but\n",
       "             * transferred with MIME type text/plain:\" errors on\n",
       "             * Chrome.  But how to set the MIME type?  It doesn't seem\n",
       "             * to be part of the websocket stream */\n",
       "            evt.data.type = \"image/png\";\n",
       "\n",
       "            /* Free the memory for the previous frames */\n",
       "            if (fig.imageObj.src) {\n",
       "                (window.URL || window.webkitURL).revokeObjectURL(\n",
       "                    fig.imageObj.src);\n",
       "            }\n",
       "\n",
       "            fig.imageObj.src = (window.URL || window.webkitURL).createObjectURL(\n",
       "                evt.data);\n",
       "            fig.updated_canvas_event();\n",
       "            fig.waiting = false;\n",
       "            return;\n",
       "        }\n",
       "        else if (typeof evt.data === 'string' && evt.data.slice(0, 21) == \"data:image/png;base64\") {\n",
       "            fig.imageObj.src = evt.data;\n",
       "            fig.updated_canvas_event();\n",
       "            fig.waiting = false;\n",
       "            return;\n",
       "        }\n",
       "\n",
       "        var msg = JSON.parse(evt.data);\n",
       "        var msg_type = msg['type'];\n",
       "\n",
       "        // Call the  \"handle_{type}\" callback, which takes\n",
       "        // the figure and JSON message as its only arguments.\n",
       "        try {\n",
       "            var callback = fig[\"handle_\" + msg_type];\n",
       "        } catch (e) {\n",
       "            console.log(\"No handler for the '\" + msg_type + \"' message type: \", msg);\n",
       "            return;\n",
       "        }\n",
       "\n",
       "        if (callback) {\n",
       "            try {\n",
       "                // console.log(\"Handling '\" + msg_type + \"' message: \", msg);\n",
       "                callback(fig, msg);\n",
       "            } catch (e) {\n",
       "                console.log(\"Exception inside the 'handler_\" + msg_type + \"' callback:\", e, e.stack, msg);\n",
       "            }\n",
       "        }\n",
       "    };\n",
       "}\n",
       "\n",
       "// from http://stackoverflow.com/questions/1114465/getting-mouse-location-in-canvas\n",
       "mpl.findpos = function(e) {\n",
       "    //this section is from http://www.quirksmode.org/js/events_properties.html\n",
       "    var targ;\n",
       "    if (!e)\n",
       "        e = window.event;\n",
       "    if (e.target)\n",
       "        targ = e.target;\n",
       "    else if (e.srcElement)\n",
       "        targ = e.srcElement;\n",
       "    if (targ.nodeType == 3) // defeat Safari bug\n",
       "        targ = targ.parentNode;\n",
       "\n",
       "    // jQuery normalizes the pageX and pageY\n",
       "    // pageX,Y are the mouse positions relative to the document\n",
       "    // offset() returns the position of the element relative to the document\n",
       "    var x = e.pageX - $(targ).offset().left;\n",
       "    var y = e.pageY - $(targ).offset().top;\n",
       "\n",
       "    return {\"x\": x, \"y\": y};\n",
       "};\n",
       "\n",
       "/*\n",
       " * return a copy of an object with only non-object keys\n",
       " * we need this to avoid circular references\n",
       " * http://stackoverflow.com/a/24161582/3208463\n",
       " */\n",
       "function simpleKeys (original) {\n",
       "  return Object.keys(original).reduce(function (obj, key) {\n",
       "    if (typeof original[key] !== 'object')\n",
       "        obj[key] = original[key]\n",
       "    return obj;\n",
       "  }, {});\n",
       "}\n",
       "\n",
       "mpl.figure.prototype.mouse_event = function(event, name) {\n",
       "    var canvas_pos = mpl.findpos(event)\n",
       "\n",
       "    if (name === 'button_press')\n",
       "    {\n",
       "        this.canvas.focus();\n",
       "        this.canvas_div.focus();\n",
       "    }\n",
       "\n",
       "    var x = canvas_pos.x * mpl.ratio;\n",
       "    var y = canvas_pos.y * mpl.ratio;\n",
       "\n",
       "    this.send_message(name, {x: x, y: y, button: event.button,\n",
       "                             step: event.step,\n",
       "                             guiEvent: simpleKeys(event)});\n",
       "\n",
       "    /* This prevents the web browser from automatically changing to\n",
       "     * the text insertion cursor when the button is pressed.  We want\n",
       "     * to control all of the cursor setting manually through the\n",
       "     * 'cursor' event from matplotlib */\n",
       "    event.preventDefault();\n",
       "    return false;\n",
       "}\n",
       "\n",
       "mpl.figure.prototype._key_event_extra = function(event, name) {\n",
       "    // Handle any extra behaviour associated with a key event\n",
       "}\n",
       "\n",
       "mpl.figure.prototype.key_event = function(event, name) {\n",
       "\n",
       "    // Prevent repeat events\n",
       "    if (name == 'key_press')\n",
       "    {\n",
       "        if (event.which === this._key)\n",
       "            return;\n",
       "        else\n",
       "            this._key = event.which;\n",
       "    }\n",
       "    if (name == 'key_release')\n",
       "        this._key = null;\n",
       "\n",
       "    var value = '';\n",
       "    if (event.ctrlKey && event.which != 17)\n",
       "        value += \"ctrl+\";\n",
       "    if (event.altKey && event.which != 18)\n",
       "        value += \"alt+\";\n",
       "    if (event.shiftKey && event.which != 16)\n",
       "        value += \"shift+\";\n",
       "\n",
       "    value += 'k';\n",
       "    value += event.which.toString();\n",
       "\n",
       "    this._key_event_extra(event, name);\n",
       "\n",
       "    this.send_message(name, {key: value,\n",
       "                             guiEvent: simpleKeys(event)});\n",
       "    return false;\n",
       "}\n",
       "\n",
       "mpl.figure.prototype.toolbar_button_onclick = function(name) {\n",
       "    if (name == 'download') {\n",
       "        this.handle_save(this, null);\n",
       "    } else {\n",
       "        this.send_message(\"toolbar_button\", {name: name});\n",
       "    }\n",
       "};\n",
       "\n",
       "mpl.figure.prototype.toolbar_button_onmouseover = function(tooltip) {\n",
       "    this.message.textContent = tooltip;\n",
       "};\n",
       "mpl.toolbar_items = [[\"Home\", \"Reset original view\", \"fa fa-home icon-home\", \"home\"], [\"Back\", \"Back to previous view\", \"fa fa-arrow-left icon-arrow-left\", \"back\"], [\"Forward\", \"Forward to next view\", \"fa fa-arrow-right icon-arrow-right\", \"forward\"], [\"\", \"\", \"\", \"\"], [\"Pan\", \"Pan axes with left mouse, zoom with right\", \"fa fa-arrows icon-move\", \"pan\"], [\"Zoom\", \"Zoom to rectangle\", \"fa fa-square-o icon-check-empty\", \"zoom\"], [\"\", \"\", \"\", \"\"], [\"Download\", \"Download plot\", \"fa fa-floppy-o icon-save\", \"download\"]];\n",
       "\n",
       "mpl.extensions = [\"eps\", \"jpeg\", \"pdf\", \"png\", \"ps\", \"raw\", \"svg\", \"tif\"];\n",
       "\n",
       "mpl.default_extension = \"png\";var comm_websocket_adapter = function(comm) {\n",
       "    // Create a \"websocket\"-like object which calls the given IPython comm\n",
       "    // object with the appropriate methods. Currently this is a non binary\n",
       "    // socket, so there is still some room for performance tuning.\n",
       "    var ws = {};\n",
       "\n",
       "    ws.close = function() {\n",
       "        comm.close()\n",
       "    };\n",
       "    ws.send = function(m) {\n",
       "        //console.log('sending', m);\n",
       "        comm.send(m);\n",
       "    };\n",
       "    // Register the callback with on_msg.\n",
       "    comm.on_msg(function(msg) {\n",
       "        //console.log('receiving', msg['content']['data'], msg);\n",
       "        // Pass the mpl event to the overridden (by mpl) onmessage function.\n",
       "        ws.onmessage(msg['content']['data'])\n",
       "    });\n",
       "    return ws;\n",
       "}\n",
       "\n",
       "mpl.mpl_figure_comm = function(comm, msg) {\n",
       "    // This is the function which gets called when the mpl process\n",
       "    // starts-up an IPython Comm through the \"matplotlib\" channel.\n",
       "\n",
       "    var id = msg.content.data.id;\n",
       "    // Get hold of the div created by the display call when the Comm\n",
       "    // socket was opened in Python.\n",
       "    var element = $(\"#\" + id);\n",
       "    var ws_proxy = comm_websocket_adapter(comm)\n",
       "\n",
       "    function ondownload(figure, format) {\n",
       "        window.open(figure.imageObj.src);\n",
       "    }\n",
       "\n",
       "    var fig = new mpl.figure(id, ws_proxy,\n",
       "                           ondownload,\n",
       "                           element.get(0));\n",
       "\n",
       "    // Call onopen now - mpl needs it, as it is assuming we've passed it a real\n",
       "    // web socket which is closed, not our websocket->open comm proxy.\n",
       "    ws_proxy.onopen();\n",
       "\n",
       "    fig.parent_element = element.get(0);\n",
       "    fig.cell_info = mpl.find_output_cell(\"<div id='\" + id + \"'></div>\");\n",
       "    if (!fig.cell_info) {\n",
       "        console.error(\"Failed to find cell for figure\", id, fig);\n",
       "        return;\n",
       "    }\n",
       "\n",
       "    var output_index = fig.cell_info[2]\n",
       "    var cell = fig.cell_info[0];\n",
       "\n",
       "};\n",
       "\n",
       "mpl.figure.prototype.handle_close = function(fig, msg) {\n",
       "    var width = fig.canvas.width/mpl.ratio\n",
       "    fig.root.unbind('remove')\n",
       "\n",
       "    // Update the output cell to use the data from the current canvas.\n",
       "    fig.push_to_output();\n",
       "    var dataURL = fig.canvas.toDataURL();\n",
       "    // Re-enable the keyboard manager in IPython - without this line, in FF,\n",
       "    // the notebook keyboard shortcuts fail.\n",
       "    IPython.keyboard_manager.enable()\n",
       "    $(fig.parent_element).html('<img src=\"' + dataURL + '\" width=\"' + width + '\">');\n",
       "    fig.close_ws(fig, msg);\n",
       "}\n",
       "\n",
       "mpl.figure.prototype.close_ws = function(fig, msg){\n",
       "    fig.send_message('closing', msg);\n",
       "    // fig.ws.close()\n",
       "}\n",
       "\n",
       "mpl.figure.prototype.push_to_output = function(remove_interactive) {\n",
       "    // Turn the data on the canvas into data in the output cell.\n",
       "    var width = this.canvas.width/mpl.ratio\n",
       "    var dataURL = this.canvas.toDataURL();\n",
       "    this.cell_info[1]['text/html'] = '<img src=\"' + dataURL + '\" width=\"' + width + '\">';\n",
       "}\n",
       "\n",
       "mpl.figure.prototype.updated_canvas_event = function() {\n",
       "    // Tell IPython that the notebook contents must change.\n",
       "    IPython.notebook.set_dirty(true);\n",
       "    this.send_message(\"ack\", {});\n",
       "    var fig = this;\n",
       "    // Wait a second, then push the new image to the DOM so\n",
       "    // that it is saved nicely (might be nice to debounce this).\n",
       "    setTimeout(function () { fig.push_to_output() }, 1000);\n",
       "}\n",
       "\n",
       "mpl.figure.prototype._init_toolbar = function() {\n",
       "    var fig = this;\n",
       "\n",
       "    var nav_element = $('<div/>');\n",
       "    nav_element.attr('style', 'width: 100%');\n",
       "    this.root.append(nav_element);\n",
       "\n",
       "    // Define a callback function for later on.\n",
       "    function toolbar_event(event) {\n",
       "        return fig.toolbar_button_onclick(event['data']);\n",
       "    }\n",
       "    function toolbar_mouse_event(event) {\n",
       "        return fig.toolbar_button_onmouseover(event['data']);\n",
       "    }\n",
       "\n",
       "    for(var toolbar_ind in mpl.toolbar_items){\n",
       "        var name = mpl.toolbar_items[toolbar_ind][0];\n",
       "        var tooltip = mpl.toolbar_items[toolbar_ind][1];\n",
       "        var image = mpl.toolbar_items[toolbar_ind][2];\n",
       "        var method_name = mpl.toolbar_items[toolbar_ind][3];\n",
       "\n",
       "        if (!name) { continue; };\n",
       "\n",
       "        var button = $('<button class=\"btn btn-default\" href=\"#\" title=\"' + name + '\"><i class=\"fa ' + image + ' fa-lg\"></i></button>');\n",
       "        button.click(method_name, toolbar_event);\n",
       "        button.mouseover(tooltip, toolbar_mouse_event);\n",
       "        nav_element.append(button);\n",
       "    }\n",
       "\n",
       "    // Add the status bar.\n",
       "    var status_bar = $('<span class=\"mpl-message\" style=\"text-align:right; float: right;\"/>');\n",
       "    nav_element.append(status_bar);\n",
       "    this.message = status_bar[0];\n",
       "\n",
       "    // Add the close button to the window.\n",
       "    var buttongrp = $('<div class=\"btn-group inline pull-right\"></div>');\n",
       "    var button = $('<button class=\"btn btn-mini btn-primary\" href=\"#\" title=\"Stop Interaction\"><i class=\"fa fa-power-off icon-remove icon-large\"></i></button>');\n",
       "    button.click(function (evt) { fig.handle_close(fig, {}); } );\n",
       "    button.mouseover('Stop Interaction', toolbar_mouse_event);\n",
       "    buttongrp.append(button);\n",
       "    var titlebar = this.root.find($('.ui-dialog-titlebar'));\n",
       "    titlebar.prepend(buttongrp);\n",
       "}\n",
       "\n",
       "mpl.figure.prototype._root_extra_style = function(el){\n",
       "    var fig = this\n",
       "    el.on(\"remove\", function(){\n",
       "\tfig.close_ws(fig, {});\n",
       "    });\n",
       "}\n",
       "\n",
       "mpl.figure.prototype._canvas_extra_style = function(el){\n",
       "    // this is important to make the div 'focusable\n",
       "    el.attr('tabindex', 0)\n",
       "    // reach out to IPython and tell the keyboard manager to turn it's self\n",
       "    // off when our div gets focus\n",
       "\n",
       "    // location in version 3\n",
       "    if (IPython.notebook.keyboard_manager) {\n",
       "        IPython.notebook.keyboard_manager.register_events(el);\n",
       "    }\n",
       "    else {\n",
       "        // location in version 2\n",
       "        IPython.keyboard_manager.register_events(el);\n",
       "    }\n",
       "\n",
       "}\n",
       "\n",
       "mpl.figure.prototype._key_event_extra = function(event, name) {\n",
       "    var manager = IPython.notebook.keyboard_manager;\n",
       "    if (!manager)\n",
       "        manager = IPython.keyboard_manager;\n",
       "\n",
       "    // Check for shift+enter\n",
       "    if (event.shiftKey && event.which == 13) {\n",
       "        this.canvas_div.blur();\n",
       "        // select the cell after this one\n",
       "        var index = IPython.notebook.find_cell_index(this.cell_info[0]);\n",
       "        IPython.notebook.select(index + 1);\n",
       "    }\n",
       "}\n",
       "\n",
       "mpl.figure.prototype.handle_save = function(fig, msg) {\n",
       "    fig.ondownload(fig, null);\n",
       "}\n",
       "\n",
       "\n",
       "mpl.find_output_cell = function(html_output) {\n",
       "    // Return the cell and output element which can be found *uniquely* in the notebook.\n",
       "    // Note - this is a bit hacky, but it is done because the \"notebook_saving.Notebook\"\n",
       "    // IPython event is triggered only after the cells have been serialised, which for\n",
       "    // our purposes (turning an active figure into a static one), is too late.\n",
       "    var cells = IPython.notebook.get_cells();\n",
       "    var ncells = cells.length;\n",
       "    for (var i=0; i<ncells; i++) {\n",
       "        var cell = cells[i];\n",
       "        if (cell.cell_type === 'code'){\n",
       "            for (var j=0; j<cell.output_area.outputs.length; j++) {\n",
       "                var data = cell.output_area.outputs[j];\n",
       "                if (data.data) {\n",
       "                    // IPython >= 3 moved mimebundle to data attribute of output\n",
       "                    data = data.data;\n",
       "                }\n",
       "                if (data['text/html'] == html_output) {\n",
       "                    return [cell, data, j];\n",
       "                }\n",
       "            }\n",
       "        }\n",
       "    }\n",
       "}\n",
       "\n",
       "// Register the function which deals with the matplotlib target/channel.\n",
       "// The kernel may be null if the page has been refreshed.\n",
       "if (IPython.notebook.kernel != null) {\n",
       "    IPython.notebook.kernel.comm_manager.register_target('matplotlib', mpl.mpl_figure_comm);\n",
       "}\n"
      ],
      "text/plain": [
       "<IPython.core.display.Javascript object>"
      ]
     },
     "metadata": {},
     "output_type": "display_data"
    },
    {
     "data": {
      "text/html": [
       "<img src=\"data:image/png;base64,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\" width=\"432\">"
      ],
      "text/plain": [
       "<IPython.core.display.HTML object>"
      ]
     },
     "metadata": {},
     "output_type": "display_data"
    },
    {
     "name": "stderr",
     "output_type": "stream",
     "text": [
      "<ipython-input-46-c4ee5dfbb032>:3: RuntimeWarning: overflow encountered in double_scalars\n",
      "  return 0.5*(np.sum((Y - linearmodel(X, w)))**2)\n"
     ]
    }
   ],
   "source": [
    "%matplotlib notebook\n",
    "\n",
    "import time\n",
    "\n",
    "# set up the canvas\n",
    "fig = plt.figure()\n",
    "ax = fig.add_subplot(111)\n",
    "plt.ion()\n",
    "fig.show()\n",
    "fig.canvas.draw()\n",
    "\n",
    "# limit range of values on x-axis\n",
    "x = np.arange(2,6, 0.1)\n",
    "\n",
    "# Learning rate\n",
    "epsilon = 0.0001\n",
    "\n",
    "# Initial weight\n",
    "w = 2.5\n",
    "\n",
    "# update values of w\n",
    "for i in range(1,100):   \n",
    "    w = w - epsilon * J(w, body_weight, heart_weight) # CHANGE THIS LINE OF THE CODE\n",
    "    ax.clear()\n",
    "    ax.plot(x,[J(y, body_weight, heart_weight) for y in x])\n",
    "    ax.plot(w, J(w, body_weight, heart_weight),'o')\n",
    "    fig.canvas.draw()\n",
    "    time.sleep(1)"
   ]
  },
  {
   "cell_type": "markdown",
   "metadata": {},
   "source": [
    "For what value of the weight parameter $w$ does the loss function reach its minimum value? \n",
    "\n",
    "How is this value different from the weight obtained by using the least-square method? "
   ]
  },
  {
   "cell_type": "code",
   "execution_count": null,
   "metadata": {
    "jupyter": {
     "outputs_hidden": true
    }
   },
   "outputs": [],
   "source": []
  }
 ],
 "metadata": {
  "kernelspec": {
   "display_name": "Python 3",
   "language": "python",
   "name": "python3"
  },
  "language_info": {
   "codemirror_mode": {
    "name": "ipython",
    "version": 3
   },
   "file_extension": ".py",
   "mimetype": "text/x-python",
   "name": "python",
   "nbconvert_exporter": "python",
   "pygments_lexer": "ipython3",
   "version": "3.8.3"
  }
 },
 "nbformat": 4,
 "nbformat_minor": 4
}
