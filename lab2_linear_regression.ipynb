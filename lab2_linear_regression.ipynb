{
 "cells": [
  {
   "cell_type": "markdown",
   "metadata": {},
   "source": [
    "# Neural Computation (Autumn 2020)\n",
    "# Lab 2: Advanced Python Libraries & Linear Regression\n",
    "\n",
    "In this exercise, you will learn the following:\n",
    "\n",
    "* Advanced libraries like Numpy and Matplotlib\n",
    "* Import a data file with NumPy\n",
    "* Produce scatter and line plots using Matplotlib\n",
    "* Define a linear model and a cost function\n",
    "* Fit a linear model using Ordinary Least Squares Method\n",
    "* Train a linear model using Gradient Descent Algorithm\n",
    "\n",
    "# Section 1: Numpy & Matplotlib\n",
    "## Numpy"
   ]
  },
  {
   "cell_type": "markdown",
   "metadata": {},
   "source": [
    "Numpy is the core library for scientific computing in Python. It provides a high-performance multidimensional array object, and tools for working with these arrays. If you are already familiar with MATLAB, you might find this [tutorial](http://wiki.scipy.org/NumPy_for_Matlab_Users) useful to get started with Numpy."
   ]
  },
  {
   "cell_type": "markdown",
   "metadata": {},
   "source": [
    "To use Numpy, we first need to import the `numpy` package. "
   ]
  },
  {
   "cell_type": "code",
   "execution_count": 1,
   "metadata": {
    "jupyter": {
     "outputs_hidden": true
    }
   },
   "outputs": [],
   "source": [
    "import numpy as np"
   ]
  },
  {
   "cell_type": "markdown",
   "metadata": {},
   "source": [
    "To call a function `X` from the NumPy module, you would normally have to write `NumPy.X()`. However, if you invoke NumPy functions many places in your code, this quickly becomes tedious. By adding `as np` after your `import` statement as shown above, you can instead write  `np.X()`, which is less verbose. "
   ]
  },
  {
   "cell_type": "markdown",
   "metadata": {},
   "source": [
    "### Arrays"
   ]
  },
  {
   "cell_type": "markdown",
   "metadata": {},
   "source": [
    "A numpy array is a grid of values, all of the same type, and is indexed by a tuple of nonnegative integers. The number of dimensions is the rank of the array; the shape of an array is a tuple of integers giving the size of the array along each dimension."
   ]
  },
  {
   "cell_type": "markdown",
   "metadata": {},
   "source": [
    "We can initialize numpy arrays from nested Python lists, and access elements using square brackets:"
   ]
  },
  {
   "cell_type": "code",
   "execution_count": 2,
   "metadata": {
    "jupyter": {
     "outputs_hidden": true
    }
   },
   "outputs": [
    {
     "name": "stdout",
     "output_type": "stream",
     "text": [
      "<class 'numpy.ndarray'> (3,) 1 2 3\n",
      "[5 2 3]\n"
     ]
    }
   ],
   "source": [
    "a = np.array([1, 2, 3])  # Create a rank 1 array\n",
    "print(type(a), a.shape, a[0], a[1], a[2])\n",
    "a[0] = 5                 # Change an element of the array\n",
    "print(a)                  "
   ]
  },
  {
   "cell_type": "code",
   "execution_count": 3,
   "metadata": {
    "jupyter": {
     "outputs_hidden": true
    }
   },
   "outputs": [
    {
     "name": "stdout",
     "output_type": "stream",
     "text": [
      "[[1 2 3]\n",
      " [4 5 6]]\n"
     ]
    }
   ],
   "source": [
    "b = np.array([[1,2,3],[4,5,6]])   # Create a rank 2 array\n",
    "print(b)"
   ]
  },
  {
   "cell_type": "code",
   "execution_count": 4,
   "metadata": {
    "jupyter": {
     "outputs_hidden": true
    }
   },
   "outputs": [
    {
     "name": "stdout",
     "output_type": "stream",
     "text": [
      "(2, 3)\n",
      "1 2 4\n"
     ]
    }
   ],
   "source": [
    "print(b.shape)                   \n",
    "print(b[0, 0], b[0, 1], b[1, 0])"
   ]
  },
  {
   "cell_type": "markdown",
   "metadata": {},
   "source": [
    "Numpy also provides many functions to create arrays:"
   ]
  },
  {
   "cell_type": "code",
   "execution_count": 5,
   "metadata": {
    "jupyter": {
     "outputs_hidden": true
    }
   },
   "outputs": [
    {
     "name": "stdout",
     "output_type": "stream",
     "text": [
      "[[0. 0.]\n",
      " [0. 0.]]\n"
     ]
    }
   ],
   "source": [
    "a = np.zeros((2,2))  # Create an array of all zeros\n",
    "print(a)"
   ]
  },
  {
   "cell_type": "code",
   "execution_count": 6,
   "metadata": {
    "jupyter": {
     "outputs_hidden": true
    }
   },
   "outputs": [
    {
     "name": "stdout",
     "output_type": "stream",
     "text": [
      "[[1. 1.]]\n"
     ]
    }
   ],
   "source": [
    "b = np.ones((1,2))   # Create an array of all ones\n",
    "print(b)"
   ]
  },
  {
   "cell_type": "code",
   "execution_count": 7,
   "metadata": {
    "jupyter": {
     "outputs_hidden": true
    }
   },
   "outputs": [
    {
     "name": "stdout",
     "output_type": "stream",
     "text": [
      "[[7 7]\n",
      " [7 7]]\n"
     ]
    }
   ],
   "source": [
    "c = np.full((2,2), 7) # Create a constant array\n",
    "print(c) "
   ]
  },
  {
   "cell_type": "code",
   "execution_count": 8,
   "metadata": {
    "jupyter": {
     "outputs_hidden": true
    }
   },
   "outputs": [
    {
     "name": "stdout",
     "output_type": "stream",
     "text": [
      "[[1. 0.]\n",
      " [0. 1.]]\n"
     ]
    }
   ],
   "source": [
    "d = np.eye(2)        # Create a 2x2 identity matrix\n",
    "print(d)"
   ]
  },
  {
   "cell_type": "code",
   "execution_count": 9,
   "metadata": {
    "jupyter": {
     "outputs_hidden": true
    }
   },
   "outputs": [
    {
     "name": "stdout",
     "output_type": "stream",
     "text": [
      "[[0.38855037 0.94208722]\n",
      " [0.57070623 0.04053697]]\n"
     ]
    }
   ],
   "source": [
    "e = np.random.random((2,2)) # Create an array filled with random values\n",
    "print(e)"
   ]
  },
  {
   "cell_type": "markdown",
   "metadata": {},
   "source": [
    "### Array indexing"
   ]
  },
  {
   "cell_type": "markdown",
   "metadata": {},
   "source": [
    "Numpy offers several ways to index into arrays."
   ]
  },
  {
   "cell_type": "markdown",
   "metadata": {},
   "source": [
    "Slicing: Similar to Python lists, numpy arrays can be sliced. Since arrays may be multidimensional, you must specify a slice for each dimension of the array:"
   ]
  },
  {
   "cell_type": "code",
   "execution_count": 10,
   "metadata": {
    "jupyter": {
     "outputs_hidden": true
    }
   },
   "outputs": [
    {
     "name": "stdout",
     "output_type": "stream",
     "text": [
      "[[2 3]\n",
      " [6 7]]\n"
     ]
    }
   ],
   "source": [
    "import numpy as np\n",
    "\n",
    "# Create the following rank 2 array with shape (3, 4)\n",
    "# [[ 1  2  3  4]\n",
    "#  [ 5  6  7  8]\n",
    "#  [ 9 10 11 12]]\n",
    "a = np.array([[1,2,3,4], [5,6,7,8], [9,10,11,12]])\n",
    "\n",
    "# Use slicing to pull out the subarray consisting of the first 2 rows\n",
    "# and columns 1 and 2; b is the following array of shape (2, 2):\n",
    "# [[2 3]\n",
    "#  [6 7]]\n",
    "b = a[:2, 1:3]\n",
    "print(b)"
   ]
  },
  {
   "cell_type": "markdown",
   "metadata": {},
   "source": [
    "A slice of an array is a view into the same data, so modifying it will modify the original array."
   ]
  },
  {
   "cell_type": "code",
   "execution_count": 11,
   "metadata": {
    "jupyter": {
     "outputs_hidden": true
    }
   },
   "outputs": [
    {
     "name": "stdout",
     "output_type": "stream",
     "text": [
      "2\n",
      "77\n"
     ]
    }
   ],
   "source": [
    "print(a[0, 1])  \n",
    "b[0, 0] = 77    # b[0, 0] is the same piece of data as a[0, 1]\n",
    "print(a[0, 1]) "
   ]
  },
  {
   "cell_type": "markdown",
   "metadata": {},
   "source": [
    "You can also mix integer indexing with slice indexing. However, doing so will yield an array of lower rank than the original array. Note that this is quite different from the way that MATLAB handles array slicing:"
   ]
  },
  {
   "cell_type": "code",
   "execution_count": 12,
   "metadata": {
    "jupyter": {
     "outputs_hidden": true
    }
   },
   "outputs": [
    {
     "name": "stdout",
     "output_type": "stream",
     "text": [
      "[[ 1  2  3  4]\n",
      " [ 5  6  7  8]\n",
      " [ 9 10 11 12]]\n"
     ]
    }
   ],
   "source": [
    "# Create the following rank 2 array with shape (3, 4)\n",
    "a = np.array([[1,2,3,4], [5,6,7,8], [9,10,11,12]])\n",
    "print(a)"
   ]
  },
  {
   "cell_type": "markdown",
   "metadata": {},
   "source": [
    "Two ways of accessing the data in the middle row of the array.\n",
    "Mixing integer indexing with slices yields an array of lower rank,\n",
    "while using only slices yields an array of the same rank as the\n",
    "original array:"
   ]
  },
  {
   "cell_type": "code",
   "execution_count": 13,
   "metadata": {
    "jupyter": {
     "outputs_hidden": true
    }
   },
   "outputs": [
    {
     "name": "stdout",
     "output_type": "stream",
     "text": [
      "[5 6 7 8] (4,)\n",
      "[[5 6 7 8]] (1, 4)\n",
      "[[5 6 7 8]] (1, 4)\n"
     ]
    }
   ],
   "source": [
    "row_r1 = a[1, :]    # Rank 1 view of the second row of a  \n",
    "row_r2 = a[1:2, :]  # Rank 2 view of the second row of a\n",
    "row_r3 = a[[1], :]  # Rank 2 view of the second row of a\n",
    "print(row_r1, row_r1.shape)\n",
    "print(row_r2, row_r2.shape)\n",
    "print(row_r3, row_r3.shape)"
   ]
  },
  {
   "cell_type": "code",
   "execution_count": 14,
   "metadata": {
    "jupyter": {
     "outputs_hidden": true
    }
   },
   "outputs": [
    {
     "name": "stdout",
     "output_type": "stream",
     "text": [
      "[ 2  6 10] (3,)\n",
      "[[ 2]\n",
      " [ 6]\n",
      " [10]] (3, 1)\n"
     ]
    }
   ],
   "source": [
    "# We can make the same distinction when accessing columns of an array:\n",
    "col_r1 = a[:, 1]\n",
    "col_r2 = a[:, 1:2]\n",
    "print(col_r1, col_r1.shape)\n",
    "print(col_r2, col_r2.shape)"
   ]
  },
  {
   "cell_type": "markdown",
   "metadata": {},
   "source": [
    "Integer array indexing: When you index into numpy arrays using slicing, the resulting array view will always be a subarray of the original array. In contrast, integer array indexing allows you to construct arbitrary arrays using the data from another array. Here is an example:"
   ]
  },
  {
   "cell_type": "code",
   "execution_count": 15,
   "metadata": {
    "jupyter": {
     "outputs_hidden": true
    }
   },
   "outputs": [
    {
     "name": "stdout",
     "output_type": "stream",
     "text": [
      "[1 4 5]\n",
      "[1 4 5]\n"
     ]
    }
   ],
   "source": [
    "a = np.array([[1,2], [3, 4], [5, 6]])\n",
    "\n",
    "# An example of integer array indexing.\n",
    "# The returned array will have shape (3,) and \n",
    "print(a[[0, 1, 2], [0, 1, 0]])\n",
    "\n",
    "# The above example of integer array indexing is equivalent to this:\n",
    "print(np.array([a[0, 0], a[1, 1], a[2, 0]]))"
   ]
  },
  {
   "cell_type": "code",
   "execution_count": 16,
   "metadata": {
    "jupyter": {
     "outputs_hidden": true
    }
   },
   "outputs": [
    {
     "name": "stdout",
     "output_type": "stream",
     "text": [
      "[2 2]\n",
      "[2 2]\n"
     ]
    }
   ],
   "source": [
    "# When using integer array indexing, you can reuse the same\n",
    "# element from the source array:\n",
    "print(a[[0, 0], [1, 1]])\n",
    "\n",
    "# Equivalent to the previous integer array indexing example\n",
    "print(np.array([a[0, 1], a[0, 1]]))"
   ]
  },
  {
   "cell_type": "markdown",
   "metadata": {},
   "source": [
    "One useful trick with integer array indexing is selecting or mutating one element from each row of a matrix:"
   ]
  },
  {
   "cell_type": "code",
   "execution_count": 17,
   "metadata": {
    "jupyter": {
     "outputs_hidden": true
    }
   },
   "outputs": [
    {
     "name": "stdout",
     "output_type": "stream",
     "text": [
      "[[ 1  2  3]\n",
      " [ 4  5  6]\n",
      " [ 7  8  9]\n",
      " [10 11 12]]\n"
     ]
    }
   ],
   "source": [
    "# Create a new array from which we will select elements\n",
    "a = np.array([[1,2,3], [4,5,6], [7,8,9], [10, 11, 12]])\n",
    "print(a)"
   ]
  },
  {
   "cell_type": "code",
   "execution_count": 18,
   "metadata": {
    "jupyter": {
     "outputs_hidden": true
    }
   },
   "outputs": [
    {
     "name": "stdout",
     "output_type": "stream",
     "text": [
      "[ 1  6  7 11]\n"
     ]
    }
   ],
   "source": [
    "# Create an array of indices\n",
    "b = np.array([0, 2, 0, 1])\n",
    "\n",
    "# Select one element from each row of a using the indices in b\n",
    "print(a[np.arange(4), b])  # Prints \"[ 1  6  7 11]\""
   ]
  },
  {
   "cell_type": "code",
   "execution_count": 19,
   "metadata": {
    "jupyter": {
     "outputs_hidden": true
    }
   },
   "outputs": [
    {
     "name": "stdout",
     "output_type": "stream",
     "text": [
      "[[11  2  3]\n",
      " [ 4  5 16]\n",
      " [17  8  9]\n",
      " [10 21 12]]\n"
     ]
    }
   ],
   "source": [
    "# Mutate one element from each row of a using the indices in b\n",
    "a[np.arange(4), b] += 10\n",
    "print(a)"
   ]
  },
  {
   "cell_type": "markdown",
   "metadata": {},
   "source": [
    "Boolean array indexing: Boolean array indexing lets you pick out arbitrary elements of an array. Frequently this type of indexing is used to select the elements of an array that satisfy some condition. Here is an example:"
   ]
  },
  {
   "cell_type": "code",
   "execution_count": 20,
   "metadata": {
    "jupyter": {
     "outputs_hidden": true
    }
   },
   "outputs": [
    {
     "name": "stdout",
     "output_type": "stream",
     "text": [
      "[[False False]\n",
      " [ True  True]\n",
      " [ True  True]]\n"
     ]
    }
   ],
   "source": [
    "import numpy as np\n",
    "\n",
    "a = np.array([[1,2], [3, 4], [5, 6]])\n",
    "\n",
    "bool_idx = (a > 2)  # Find the elements of a that are bigger than 2;\n",
    "                    # this returns a numpy array of Booleans of the same\n",
    "                    # shape as a, where each slot of bool_idx tells\n",
    "                    # whether that element of a is > 2.\n",
    "\n",
    "print(bool_idx)"
   ]
  },
  {
   "cell_type": "code",
   "execution_count": 21,
   "metadata": {
    "jupyter": {
     "outputs_hidden": true
    }
   },
   "outputs": [
    {
     "name": "stdout",
     "output_type": "stream",
     "text": [
      "[3 4 5 6]\n",
      "[3 4 5 6]\n"
     ]
    }
   ],
   "source": [
    "# We use boolean array indexing to construct a rank 1 array\n",
    "# consisting of the elements of a corresponding to the True values\n",
    "# of bool_idx\n",
    "print(a[bool_idx])\n",
    "\n",
    "# We can do all of the above in a single concise statement:\n",
    "print(a[a > 2])"
   ]
  },
  {
   "cell_type": "markdown",
   "metadata": {},
   "source": [
    "For brevity we have left out a lot of details about numpy array indexing; if you want to know more you should read the documentation."
   ]
  },
  {
   "cell_type": "markdown",
   "metadata": {},
   "source": [
    "### Array math"
   ]
  },
  {
   "cell_type": "markdown",
   "metadata": {},
   "source": [
    "Basic mathematical functions operate elementwise on arrays, and are available both as operator overloads and as functions in the numpy module:"
   ]
  },
  {
   "cell_type": "code",
   "execution_count": 22,
   "metadata": {
    "jupyter": {
     "outputs_hidden": true
    }
   },
   "outputs": [
    {
     "name": "stdout",
     "output_type": "stream",
     "text": [
      "[[ 6.  8.]\n",
      " [10. 12.]]\n",
      "[[ 6.  8.]\n",
      " [10. 12.]]\n"
     ]
    }
   ],
   "source": [
    "x = np.array([[1,2],[3,4]], dtype=np.float64)\n",
    "y = np.array([[5,6],[7,8]], dtype=np.float64)\n",
    "\n",
    "# Elementwise sum; both produce the array\n",
    "print(x + y)\n",
    "print(np.add(x, y))"
   ]
  },
  {
   "cell_type": "code",
   "execution_count": 23,
   "metadata": {
    "jupyter": {
     "outputs_hidden": true
    }
   },
   "outputs": [
    {
     "name": "stdout",
     "output_type": "stream",
     "text": [
      "[[-4. -4.]\n",
      " [-4. -4.]]\n",
      "[[-4. -4.]\n",
      " [-4. -4.]]\n"
     ]
    }
   ],
   "source": [
    "# Elementwise difference; both produce the array\n",
    "print(x - y)\n",
    "print(np.subtract(x, y))"
   ]
  },
  {
   "cell_type": "code",
   "execution_count": 24,
   "metadata": {
    "jupyter": {
     "outputs_hidden": true
    }
   },
   "outputs": [
    {
     "name": "stdout",
     "output_type": "stream",
     "text": [
      "[[ 5. 12.]\n",
      " [21. 32.]]\n",
      "[[ 5. 12.]\n",
      " [21. 32.]]\n"
     ]
    }
   ],
   "source": [
    "# Elementwise product; both produce the array\n",
    "print(x * y)\n",
    "print(np.multiply(x, y))"
   ]
  },
  {
   "cell_type": "code",
   "execution_count": 25,
   "metadata": {
    "jupyter": {
     "outputs_hidden": true
    }
   },
   "outputs": [
    {
     "name": "stdout",
     "output_type": "stream",
     "text": [
      "[[0.2        0.33333333]\n",
      " [0.42857143 0.5       ]]\n",
      "[[0.2        0.33333333]\n",
      " [0.42857143 0.5       ]]\n"
     ]
    }
   ],
   "source": [
    "# Elementwise division; both produce the array\n",
    "# [[ 0.2         0.33333333]\n",
    "#  [ 0.42857143  0.5       ]]\n",
    "print(x / y)\n",
    "print(np.divide(x, y))"
   ]
  },
  {
   "cell_type": "code",
   "execution_count": 26,
   "metadata": {
    "jupyter": {
     "outputs_hidden": true
    }
   },
   "outputs": [
    {
     "name": "stdout",
     "output_type": "stream",
     "text": [
      "[[1.         1.41421356]\n",
      " [1.73205081 2.        ]]\n"
     ]
    }
   ],
   "source": [
    "# Elementwise square root; produces the array\n",
    "# [[ 1.          1.41421356]\n",
    "#  [ 1.73205081  2.        ]]\n",
    "print(np.sqrt(x))"
   ]
  },
  {
   "cell_type": "markdown",
   "metadata": {},
   "source": [
    "Note that unlike MATLAB, `*` is elementwise multiplication, not matrix multiplication. We instead use the dot function to compute inner products of vectors, to multiply a vector by a matrix, and to multiply matrices. dot is available both as a function in the numpy module and as an instance method of array objects:"
   ]
  },
  {
   "cell_type": "code",
   "execution_count": 27,
   "metadata": {
    "jupyter": {
     "outputs_hidden": true
    }
   },
   "outputs": [
    {
     "name": "stdout",
     "output_type": "stream",
     "text": [
      "219\n",
      "219\n"
     ]
    }
   ],
   "source": [
    "x = np.array([[1,2],[3,4]])\n",
    "y = np.array([[5,6],[7,8]])\n",
    "\n",
    "v = np.array([9,10])\n",
    "w = np.array([11, 12])\n",
    "\n",
    "# Inner product of vectors; both produce 219\n",
    "print(v.dot(w))\n",
    "print(np.dot(v, w))"
   ]
  },
  {
   "cell_type": "code",
   "execution_count": 28,
   "metadata": {
    "jupyter": {
     "outputs_hidden": true
    }
   },
   "outputs": [
    {
     "name": "stdout",
     "output_type": "stream",
     "text": [
      "[29 67]\n",
      "[29 67]\n"
     ]
    }
   ],
   "source": [
    "# Matrix / vector product; both produce the rank 1 array [29 67]\n",
    "print(x.dot(v))\n",
    "print(np.dot(x, v))"
   ]
  },
  {
   "cell_type": "code",
   "execution_count": 29,
   "metadata": {
    "jupyter": {
     "outputs_hidden": true
    }
   },
   "outputs": [
    {
     "name": "stdout",
     "output_type": "stream",
     "text": [
      "[[19 22]\n",
      " [43 50]]\n",
      "[[19 22]\n",
      " [43 50]]\n"
     ]
    }
   ],
   "source": [
    "# Matrix / matrix product; both produce the rank 2 array\n",
    "# [[19 22]\n",
    "#  [43 50]]\n",
    "print(x.dot(y))\n",
    "print(np.dot(x, y))"
   ]
  },
  {
   "cell_type": "markdown",
   "metadata": {},
   "source": [
    "Numpy provides many useful functions for performing computations on arrays; one of the most useful is `sum`:"
   ]
  },
  {
   "cell_type": "code",
   "execution_count": 54,
   "metadata": {
    "jupyter": {
     "outputs_hidden": true
    }
   },
   "outputs": [
    {
     "name": "stdout",
     "output_type": "stream",
     "text": [
      "10\n",
      "[4 6]\n",
      "[3 7]\n"
     ]
    }
   ],
   "source": [
    "x = np.array([[1,2],[3,4]])\n",
    "\n",
    "print(np.sum(x))  # Compute sum of all elements; prints \"10\"\n",
    "print(np.sum(x, axis=0))  # Compute sum of each column; prints \"[4 6]\"\n",
    "print(np.sum(x, axis=1))  # Compute sum of each row; prints \"[3 7]\""
   ]
  },
  {
   "cell_type": "markdown",
   "metadata": {},
   "source": [
    "You can find the full list of mathematical functions provided by numpy in the [documentation](http://docs.scipy.org/doc/numpy/reference/routines.math.html).\n",
    "\n",
    "Apart from computing mathematical functions using arrays, we frequently need to reshape or otherwise manipulate data in arrays. The simplest example of this type of operation is transposing a matrix; to transpose a matrix, simply use the `T` attribute of an array object:"
   ]
  },
  {
   "cell_type": "code",
   "execution_count": 55,
   "metadata": {
    "jupyter": {
     "outputs_hidden": true
    }
   },
   "outputs": [
    {
     "name": "stdout",
     "output_type": "stream",
     "text": [
      "[[1 2]\n",
      " [3 4]]\n",
      "[[1 3]\n",
      " [2 4]]\n"
     ]
    }
   ],
   "source": [
    "print(x)\n",
    "print(x.T)"
   ]
  },
  {
   "cell_type": "code",
   "execution_count": 56,
   "metadata": {
    "jupyter": {
     "outputs_hidden": true
    }
   },
   "outputs": [
    {
     "name": "stdout",
     "output_type": "stream",
     "text": [
      "[[1 2 3]]\n",
      "[[1]\n",
      " [2]\n",
      " [3]]\n"
     ]
    }
   ],
   "source": [
    "v = np.array([[1,2,3]])\n",
    "print(v) \n",
    "print(v.T)"
   ]
  },
  {
   "cell_type": "markdown",
   "metadata": {},
   "source": [
    "## Matplotlib"
   ]
  },
  {
   "cell_type": "markdown",
   "metadata": {},
   "source": [
    "Matplotlib is a plotting library. In this section give a brief introduction to the `matplotlib.pyplot` module, which provides a plotting system similar to that of MATLAB."
   ]
  },
  {
   "cell_type": "code",
   "execution_count": 30,
   "metadata": {
    "jupyter": {
     "outputs_hidden": true
    }
   },
   "outputs": [],
   "source": [
    "import matplotlib.pyplot as plt"
   ]
  },
  {
   "cell_type": "markdown",
   "metadata": {},
   "source": [
    "By running this special iPython command, we will be displaying plots inline:"
   ]
  },
  {
   "cell_type": "code",
   "execution_count": 31,
   "metadata": {
    "jupyter": {
     "outputs_hidden": true
    }
   },
   "outputs": [],
   "source": [
    "%matplotlib inline"
   ]
  },
  {
   "cell_type": "markdown",
   "metadata": {},
   "source": [
    "### Plotting"
   ]
  },
  {
   "cell_type": "markdown",
   "metadata": {},
   "source": [
    "The most important function in `matplotlib` is plot, which allows you to plot 2D data. Here is a simple example:"
   ]
  },
  {
   "cell_type": "code",
   "execution_count": 35,
   "metadata": {
    "jupyter": {
     "outputs_hidden": true
    }
   },
   "outputs": [
    {
     "data": {
      "text/plain": [
       "[<matplotlib.lines.Line2D at 0x20f83948790>]"
      ]
     },
     "execution_count": 35,
     "metadata": {},
     "output_type": "execute_result"
    },
    {
     "data": {
      "image/png": "[encoded data removed]",
      "text/plain": [
       "<Figure size 432x288 with 1 Axes>"
      ]
     },
     "metadata": {
      "needs_background": "light"
     },
     "output_type": "display_data"
    }
   ],
   "source": [
    "# Compute the x and y coordinates for points on a sine curve\n",
    "x = np.arange(0, 3 * np.pi, 0.01)\n",
    "y = np.sin(x)\n",
    "\n",
    "# Plot the points using matplotlib\n",
    "plt.plot(x, y)"
   ]
  },
  {
   "cell_type": "markdown",
   "metadata": {},
   "source": [
    "With just a little bit of extra work we can easily plot multiple lines at once, and add a title, legend, and axis labels:"
   ]
  },
  {
   "cell_type": "code",
   "execution_count": 36,
   "metadata": {
    "jupyter": {
     "outputs_hidden": true
    }
   },
   "outputs": [
    {
     "data": {
      "text/plain": [
       "<matplotlib.legend.Legend at 0x20f839af3d0>"
      ]
     },
     "execution_count": 36,
     "metadata": {},
     "output_type": "execute_result"
    },
    {
     "data": {
      "image/png": "[encoded data removed]",
      "text/plain": [
       "<Figure size 432x288 with 1 Axes>"
      ]
     },
     "metadata": {
      "needs_background": "light"
     },
     "output_type": "display_data"
    }
   ],
   "source": [
    "y_sin = np.sin(x)\n",
    "y_cos = np.cos(x)\n",
    "\n",
    "# Plot the points using matplotlib\n",
    "plt.plot(x, y_sin)\n",
    "plt.plot(x, y_cos)\n",
    "plt.xlabel('x axis label')\n",
    "plt.ylabel('y axis label')\n",
    "plt.title('Sine and Cosine')\n",
    "plt.legend(['Sine', 'Cosine'])"
   ]
  },
  {
   "cell_type": "markdown",
   "metadata": {},
   "source": [
    "### Subplots "
   ]
  },
  {
   "cell_type": "markdown",
   "metadata": {},
   "source": [
    "You can plot different things in the same figure using the subplot function. You have to add `plt.show`Here is an example."
   ]
  },
  {
   "cell_type": "code",
   "execution_count": 51,
   "metadata": {
    "jupyter": {
     "outputs_hidden": true
    }
   },
   "outputs": [
    {
     "data": {
      "image/png": "[encoded data removed]",
      "text/plain": [
       "<Figure size 432x288 with 2 Axes>"
      ]
     },
     "metadata": {
      "needs_background": "light"
     },
     "output_type": "display_data"
    }
   ],
   "source": [
    "# Compute the x and y coordinates for points on sine and cosine curves\n",
    "x = np.arange(0, 3 * np.pi, 0.1)\n",
    "y_sin = np.sin(x)\n",
    "y_cos = np.cos(x)\n",
    "\n",
    "# Set up a subplot grid that has height 2 and width 1,\n",
    "# and set the first such subplot as active.\n",
    "plt.subplot(2, 1, 1)\n",
    "\n",
    "# Make the first plot\n",
    "plt.plot(x, y_sin)\n",
    "plt.title('Sine')\n",
    "\n",
    "# Set the second subplot as active, and make the second plot.\n",
    "plt.subplot(2, 1, 2)\n",
    "plt.plot(x, y_cos)\n",
    "plt.title('Cosine')\n",
    "\n",
    "# Show the figure.\n",
    "plt.show()"
   ]
  },
  {
   "cell_type": "markdown",
   "metadata": {},
   "source": [
    "# Section 2: Linear Regression\n"
   ]
  },
  {
   "cell_type": "markdown",
   "metadata": {},
   "source": [
    "## Reading data from a CSV file\n",
    "\n",
    "We first read the cat data set from a local comma separated value (CSV) file, and store the body and heart weights in two arrays. "
   ]
  },
  {
   "cell_type": "markdown",
   "metadata": {},
   "source": [
    "We will use the [genfromtxt](https://docs.scipy.org/doc/numpy-1.13.0/reference/generated/numpy.genfromtxt.html) function in NumPy to read the data set from a CSV file located at some URL.\n",
    "\n",
    "    np.genfromtxt(url, delimiter=None, skip_header=0, usecols=None) \n",
    "\n",
    "This function takes several arguments, including: \n",
    "\n",
    "* `url`: a string that specifies a file name or an URL for the CSV file, \n",
    "* `delimiter`: a string used to separate value, \n",
    "* `skip_header`: an int indicates the number of lines to skip at the beginning of the file,  \n",
    "* `usecols`: a sequence indicating which columns to read, with 0 as first column. \n",
    "            \n",
    "We can read data from the file and store them into a variable named `cats` using the following line. You can see that `cats` is a NumPy array with two columns. The first column is the body weight, while the second column is the heart weight."
   ]
  },
  {
   "cell_type": "code",
   "execution_count": 52,
   "metadata": {
    "jupyter": {
     "outputs_hidden": true
    }
   },
   "outputs": [
    {
     "data": {
      "text/plain": [
       "array([[ 2. ,  7. ],\n",
       "       [ 2. ,  7.4],\n",
       "       [ 2. ,  9.5],\n",
       "       [ 2.1,  7.2],\n",
       "       [ 2.1,  7.3],\n",
       "       [ 2.1,  7.6],\n",
       "       [ 2.1,  8.1],\n",
       "       [ 2.1,  8.2],\n",
       "       [ 2.1,  8.3],\n",
       "       [ 2.1,  8.5],\n",
       "       [ 2.1,  8.7],\n",
       "       [ 2.1,  9.8],\n",
       "       [ 2.2,  7.1],\n",
       "       [ 2.2,  8.7],\n",
       "       [ 2.2,  9.1],\n",
       "       [ 2.2,  9.7],\n",
       "       [ 2.2, 10.9],\n",
       "       [ 2.2, 11. ],\n",
       "       [ 2.3,  7.3],\n",
       "       [ 2.3,  7.9],\n",
       "       [ 2.3,  8.4],\n",
       "       [ 2.3,  9. ],\n",
       "       [ 2.3,  9. ],\n",
       "       [ 2.3,  9.5],\n",
       "       [ 2.3,  9.6],\n",
       "       [ 2.3,  9.7],\n",
       "       [ 2.3, 10.1],\n",
       "       [ 2.3, 10.1],\n",
       "       [ 2.3, 10.6],\n",
       "       [ 2.3, 11.2],\n",
       "       [ 2.4,  6.3],\n",
       "       [ 2.4,  8.7],\n",
       "       [ 2.4,  8.8],\n",
       "       [ 2.4, 10.2],\n",
       "       [ 2.5,  9. ],\n",
       "       [ 2.5, 10.9],\n",
       "       [ 2.6,  8.7],\n",
       "       [ 2.6, 10.1],\n",
       "       [ 2.6, 10.1],\n",
       "       [ 2.7,  8.5],\n",
       "       [ 2.7, 10.2],\n",
       "       [ 2.7, 10.8],\n",
       "       [ 2.9,  9.9],\n",
       "       [ 2.9, 10.1],\n",
       "       [ 2.9, 10.1],\n",
       "       [ 3. , 10.6],\n",
       "       [ 3. , 13. ],\n",
       "       [ 2. ,  6.5],\n",
       "       [ 2. ,  6.5],\n",
       "       [ 2.1, 10.1],\n",
       "       [ 2.2,  7.2],\n",
       "       [ 2.2,  7.6],\n",
       "       [ 2.2,  7.9],\n",
       "       [ 2.2,  8.5],\n",
       "       [ 2.2,  9.1],\n",
       "       [ 2.2,  9.6],\n",
       "       [ 2.2,  9.6],\n",
       "       [ 2.2, 10.7],\n",
       "       [ 2.3,  9.6],\n",
       "       [ 2.4,  7.3],\n",
       "       [ 2.4,  7.9],\n",
       "       [ 2.4,  7.9],\n",
       "       [ 2.4,  9.1],\n",
       "       [ 2.4,  9.3],\n",
       "       [ 2.5,  7.9],\n",
       "       [ 2.5,  8.6],\n",
       "       [ 2.5,  8.8],\n",
       "       [ 2.5,  8.8],\n",
       "       [ 2.5,  9.3],\n",
       "       [ 2.5, 11. ],\n",
       "       [ 2.5, 12.7],\n",
       "       [ 2.5, 12.7],\n",
       "       [ 2.6,  7.7],\n",
       "       [ 2.6,  8.3],\n",
       "       [ 2.6,  9.4],\n",
       "       [ 2.6,  9.4],\n",
       "       [ 2.6, 10.5],\n",
       "       [ 2.6, 11.5],\n",
       "       [ 2.7,  8. ],\n",
       "       [ 2.7,  9. ],\n",
       "       [ 2.7,  9.6],\n",
       "       [ 2.7,  9.6],\n",
       "       [ 2.7,  9.8],\n",
       "       [ 2.7, 10.4],\n",
       "       [ 2.7, 11.1],\n",
       "       [ 2.7, 12. ],\n",
       "       [ 2.7, 12.5],\n",
       "       [ 2.8,  9.1],\n",
       "       [ 2.8, 10. ],\n",
       "       [ 2.8, 10.2],\n",
       "       [ 2.8, 11.4],\n",
       "       [ 2.8, 12. ],\n",
       "       [ 2.8, 13.3],\n",
       "       [ 2.8, 13.5],\n",
       "       [ 2.9,  9.4],\n",
       "       [ 2.9, 10.1],\n",
       "       [ 2.9, 10.6],\n",
       "       [ 2.9, 11.3],\n",
       "       [ 2.9, 11.8],\n",
       "       [ 3. , 10. ],\n",
       "       [ 3. , 10.4],\n",
       "       [ 3. , 10.6],\n",
       "       [ 3. , 11.6],\n",
       "       [ 3. , 12.2],\n",
       "       [ 3. , 12.4],\n",
       "       [ 3. , 12.7],\n",
       "       [ 3. , 13.3],\n",
       "       [ 3. , 13.8],\n",
       "       [ 3.1,  9.9],\n",
       "       [ 3.1, 11.5],\n",
       "       [ 3.1, 12.1],\n",
       "       [ 3.1, 12.5],\n",
       "       [ 3.1, 13. ],\n",
       "       [ 3.1, 14.3],\n",
       "       [ 3.2, 11.6],\n",
       "       [ 3.2, 11.9],\n",
       "       [ 3.2, 12.3],\n",
       "       [ 3.2, 13. ],\n",
       "       [ 3.2, 13.5],\n",
       "       [ 3.2, 13.6],\n",
       "       [ 3.3, 11.5],\n",
       "       [ 3.3, 12. ],\n",
       "       [ 3.3, 14.1],\n",
       "       [ 3.3, 14.9],\n",
       "       [ 3.3, 15.4],\n",
       "       [ 3.4, 11.2],\n",
       "       [ 3.4, 12.2],\n",
       "       [ 3.4, 12.4],\n",
       "       [ 3.4, 12.8],\n",
       "       [ 3.4, 14.4],\n",
       "       [ 3.5, 11.7],\n",
       "       [ 3.5, 12.9],\n",
       "       [ 3.5, 15.6],\n",
       "       [ 3.5, 15.7],\n",
       "       [ 3.5, 17.2],\n",
       "       [ 3.6, 11.8],\n",
       "       [ 3.6, 13.3],\n",
       "       [ 3.6, 14.8],\n",
       "       [ 3.6, 15. ],\n",
       "       [ 3.7, 11. ],\n",
       "       [ 3.8, 14.8],\n",
       "       [ 3.8, 16.8],\n",
       "       [ 3.9, 14.4],\n",
       "       [ 3.9, 20.5]])"
      ]
     },
     "execution_count": 52,
     "metadata": {},
     "output_type": "execute_result"
    }
   ],
   "source": [
    "# Read the data from file\n",
    "url = \"http://www.cs.bham.ac.uk/~lehrepk/nc/cats.csv\"\n",
    "cats = np.genfromtxt(url, delimiter=\",\", skip_header=1, usecols=(1,2))\n",
    "\n",
    "# print out the content of cats\n",
    "cats"
   ]
  },
  {
   "cell_type": "markdown",
   "metadata": {},
   "source": [
    "Now we are going to use a variable named `body_weight` to store all body weight (the first column in the `cats` array). To do so, we call a function `T` (transpose) to convert two columns into two rows. Each row now can be accessed by specifying the row number inside a square bracket. The following line will extract all data from the first column of the cats array and store them into the variable body_weight. "
   ]
  },
  {
   "cell_type": "code",
   "execution_count": 53,
   "metadata": {
    "jupyter": {
     "outputs_hidden": true
    }
   },
   "outputs": [
    {
     "data": {
      "text/plain": [
       "array([2. , 2. , 2. , 2.1, 2.1, 2.1, 2.1, 2.1, 2.1, 2.1, 2.1, 2.1, 2.2,\n",
       "       2.2, 2.2, 2.2, 2.2, 2.2, 2.3, 2.3, 2.3, 2.3, 2.3, 2.3, 2.3, 2.3,\n",
       "       2.3, 2.3, 2.3, 2.3, 2.4, 2.4, 2.4, 2.4, 2.5, 2.5, 2.6, 2.6, 2.6,\n",
       "       2.7, 2.7, 2.7, 2.9, 2.9, 2.9, 3. , 3. , 2. , 2. , 2.1, 2.2, 2.2,\n",
       "       2.2, 2.2, 2.2, 2.2, 2.2, 2.2, 2.3, 2.4, 2.4, 2.4, 2.4, 2.4, 2.5,\n",
       "       2.5, 2.5, 2.5, 2.5, 2.5, 2.5, 2.5, 2.6, 2.6, 2.6, 2.6, 2.6, 2.6,\n",
       "       2.7, 2.7, 2.7, 2.7, 2.7, 2.7, 2.7, 2.7, 2.7, 2.8, 2.8, 2.8, 2.8,\n",
       "       2.8, 2.8, 2.8, 2.9, 2.9, 2.9, 2.9, 2.9, 3. , 3. , 3. , 3. , 3. ,\n",
       "       3. , 3. , 3. , 3. , 3.1, 3.1, 3.1, 3.1, 3.1, 3.1, 3.2, 3.2, 3.2,\n",
       "       3.2, 3.2, 3.2, 3.3, 3.3, 3.3, 3.3, 3.3, 3.4, 3.4, 3.4, 3.4, 3.4,\n",
       "       3.5, 3.5, 3.5, 3.5, 3.5, 3.6, 3.6, 3.6, 3.6, 3.7, 3.8, 3.8, 3.9,\n",
       "       3.9])"
      ]
     },
     "execution_count": 53,
     "metadata": {},
     "output_type": "execute_result"
    }
   ],
   "source": [
    "# extract body_weight data from cats variable\n",
    "body_weight = cats.T[0]\n",
    "body_weight"
   ]
  },
  {
   "cell_type": "markdown",
   "metadata": {},
   "source": [
    "You should now complete the next code block in order to copy the second column in an array `heart_weight`."
   ]
  },
  {
   "cell_type": "code",
   "execution_count": 58,
   "metadata": {
    "jupyter": {
     "outputs_hidden": true
    }
   },
   "outputs": [],
   "source": [
    "# write your code to extract data from second column here\n",
    "heart_weigth = cats.T[1]"
   ]
  },
  {
   "cell_type": "markdown",
   "metadata": {},
   "source": [
    "## Visualising the data\n",
    "We will now visualise the relationship between body and heart weights of the cats using a scatter plot using the [`scatter`](https://matplotlib.org/devdocs/api/_as_gen/matplotlib.pyplot.scatter.html) function in the matplotlib.pylot module. This function can be called as follows:\n",
    "\n",
    "    plt.scatter( x , y )\n",
    "    \n",
    "The two arguments `x` and `y` are the input data. We can label the `x`- and `y`-axes as follows: \n",
    "\n",
    "    plt.xlabel(\"x_label_here\") \n",
    "    plt.ylabel(\"y_label_here\") \n",
    "    \n",
    "The function scatter has many additional arguments, as [described in the reference manual]([`scatter`](https://matplotlib.org/devdocs/api/_as_gen/matplotlib.pyplot.scatter.html). \n",
    "\n",
    "Now, you should make a scatter plot of the heart weight versus body weight. You should label the x- and y-axes by \"Body weight (kg)\" and \"Heart weight (gm)\". Hint: Remember to include `plt.show()` at the end; otherwise, the scatter plot is not shown."
   ]
  },
  {
   "cell_type": "code",
   "execution_count": null,
   "metadata": {
    "collapsed": true,
    "jupyter": {
     "outputs_hidden": true
    }
   },
   "outputs": [],
   "source": [
    "# Insert your code to make the scatter plot here.\n"
   ]
  },
  {
   "cell_type": "markdown",
   "metadata": {},
   "source": [
    "## Defining a Linear Model\n",
    "\n",
    "A linear regression model in one variable has the following form $f(x) = wx+b$, where $x$ is the input, $w$ is called the weight and $b$ is known as the bias. As discussed in the lecture, we simplify the model even more by assuming $b=0$. The model now becomes $f(x)=wx$. If you sketch this model on xy coordinate system, it is a straight line passing through the origin with slope $w$. (i.e. derivative). \n",
    "\n",
    "The purpose of generating such a model is to predict an output (cat heart weight) given an input (cat body weight). Given the model parameter $w$ and the new input $x$, the output predicted by our simple model is $wx$. We will define a function named `linearmodel(x,w)` which represents this model. The function takes two arguments, the model parameter $w$ and the input $x$, and it returns the predicted output $wx$. Please refer to last week's lab sheet for a brief introduction to function definition in Python.\n",
    "\n",
    "Now, you should define the function `linearmodel` as described above."
   ]
  },
  {
   "cell_type": "code",
   "execution_count": null,
   "metadata": {
    "collapsed": true,
    "jupyter": {
     "outputs_hidden": true
    }
   },
   "outputs": [],
   "source": [
    "# Insert code to define the linearmodel function here.\n"
   ]
  },
  {
   "cell_type": "markdown",
   "metadata": {},
   "source": [
    "We will visualise the cat data set together with the linear regression model for a given weight parameter $w$. Let's consider the following block of codes.\n",
    "\n",
    "    w = 3.907111\n",
    "    x = np.arange(2.0, 4.0, 0.2)\n",
    "    plt.plot(x, linearmodel(x,w), 'r-')\n",
    "    plt.show()\n",
    "    \n",
    "The first line assigns a value of 3.907111 to the weight $w$. The function call `np.arange(x,y,z)` returns an array of evenly separated values, starting from x to y (excluding) with step size of z. For example, np.arange(3,7,2) yields an array consisting of 3 and 5 only. The `plt.plot()` function call is then invoked to plot the linear model for a given weight. Notice that the data set drawn on the y-axis in this case will be the set of output values received from calling the function `linearmodel(x,w)` once for each element in the array `x`. The argument `'r-'` specifies that we want to plot a solid red line.\n",
    "\n",
    "Write code to plot this simple linear model for the cats data set. You have to plot the cats data set first (use code from the previous exercise, and remove the `plt.show()` in the end), and then add the code to plot the linear model. Remember to add `plt.show()` in the end, otherwise the plot is not displayed."
   ]
  },
  {
   "cell_type": "code",
   "execution_count": null,
   "metadata": {
    "collapsed": true,
    "jupyter": {
     "outputs_hidden": true
    }
   },
   "outputs": [],
   "source": [
    "# Add your previous code to plot a scatter here without plt.show() at the end.\n",
    "\n",
    "\n",
    "# Plot the linear regression model f(x) = x*w here as solid red line (r-) in the interval [2,4).\n"
   ]
  },
  {
   "cell_type": "markdown",
   "metadata": {},
   "source": [
    "## Ordinary Least Square Solution\n",
    "As you can see from the lecture notes, we define a cost function as follows.\n",
    "\n",
    "$$J(w) = \\frac{1}{n}{\\sum_{i=1}^n}\\frac{1}{2}(y^{(i)}-wx^{(i)})^2$$\n",
    "\n",
    "By solving the equation $J'(w)=0$ for $w$, We obtain the ordinary least square solution\n",
    "\n",
    "$$w = \\frac{\\sum_{i=1}^n x^{(i)}y^{(i)}}{\\sum_{i=1}^n (x^{(i)})^2}$$\n",
    "\n",
    "Here in order to calculate the numerator, we have to calculate $n$ products $x^{(i)}y^{(i)}$ (for $i=1,2,...,n$), and then sum them up. We have to do the same number of steps for the denominator. \n",
    "\n",
    "Perhaps the most immediate way of computing these expressions in Python would be to use two for-loops. However, by realising that the numerator and denumerator are dot products between two vectors, we can take advantage of NumPy's efficient routines.\n",
    "The dot product between two vectors $x = (x^{(1)}, x^{(2)},\\ldots,x^{(n)})$ and $y=(y^{(1)}, y^{(2)},\\ldots,y^{(n)})$ is $x\\cdot y = \\sum_{i=1}^n x^{(i)}y^{(i)}$. The formula to calculate $w$ above can be now rewritten as \n",
    "\n",
    "$$w = \\frac{x\\cdot y}{x\\cdot x}.$$\n",
    "\n",
    "To compute the dot product between two vectors $x$ and $y$, we can invoke the NumPy function `np.dot(x,y)`. \n",
    "\n",
    "Implement a function `ols` which takes two arguments $x$ and $y$, and which returns the value of the weight parameter $w$ according to the formula above."
   ]
  },
  {
   "cell_type": "code",
   "execution_count": null,
   "metadata": {
    "collapsed": true,
    "jupyter": {
     "outputs_hidden": true
    }
   },
   "outputs": [],
   "source": [
    "# define your ols function here\n"
   ]
  },
  {
   "cell_type": "markdown",
   "metadata": {},
   "source": [
    "Now call the function `ols` with the arrays `body_weight` and `heart_weight` as arguments. What is the value of weight $w$ you obtain?"
   ]
  },
  {
   "cell_type": "code",
   "execution_count": null,
   "metadata": {
    "collapsed": true,
    "jupyter": {
     "outputs_hidden": true
    }
   },
   "outputs": [],
   "source": [
    "# call the ols function here\n"
   ]
  },
  {
   "cell_type": "markdown",
   "metadata": {},
   "source": [
    "## Defining a Cost Function\n",
    "\n",
    "The following two functions computes the cost function $J(w)$ and its derivative $J'(w)$ (or $\\nabla J(w)$), defined above using the data set. Here we make use of function `np.sum()` to perform the summation of two vectors. \n",
    "\n",
    "Note that in the notation of the cost function $J(w)$, we omit the input `X` (i.e., body_weight) and \n",
    "target `Y` (i.e., heart_weight), but we have to include them when defining the cost function in Python. "
   ]
  },
  {
   "cell_type": "code",
   "execution_count": null,
   "metadata": {
    "collapsed": true,
    "jupyter": {
     "outputs_hidden": true
    }
   },
   "outputs": [],
   "source": [
    "# cost function\n",
    "def J(w, X, Y):\n",
    "    return 0.5*(np.sum((Y - linearmodel(X, w)))**2)\n",
    "\n",
    "# derivative of the cost function\n",
    "def J_d(w, X, Y):\n",
    "    return np.dot(X.T, (linearmodel(X, w)-Y))"
   ]
  },
  {
   "cell_type": "markdown",
   "metadata": {},
   "source": [
    "We assign some values to $w$, using a `np.arange(start, stop, step)` function call as follows:\n",
    "\n",
    "    w = np.arange(2.9,5.0,0.01)\n",
    "    \n",
    "The corresponding values of $J(w)$ can be computed using list comprehension as follows. \n",
    "\n",
    "    [J(i) for i in w] \n",
    "    \n",
    "In this statement, we call function $J(i)$ for each value $i$ in the list $w$. \n",
    "The result of this statement will be a list $[J(w_1), J(w_2),\\ldots,J(w_n)]$. If you do not know what list comprehension is, please refer to last week's lab sheet.\n",
    "   \n",
    "Can you plot the loss function for values of weight $w$ given above? Remember to label the x- and y-axis as \"w\" and \"J(w)\", respectively, and include plt.show() at the end. "
   ]
  },
  {
   "cell_type": "code",
   "execution_count": null,
   "metadata": {
    "collapsed": true,
    "jupyter": {
     "outputs_hidden": true
    }
   },
   "outputs": [],
   "source": [
    "# plot the loss function here\n"
   ]
  },
  {
   "cell_type": "markdown",
   "metadata": {},
   "source": [
    "By looking at the plot you have just drawn, can you roughly estimate for which value of $w$ the loss function has minimum value?"
   ]
  },
  {
   "cell_type": "markdown",
   "metadata": {},
   "source": [
    "## Gradient Descent Algorithm in One-Dimensional Space\n",
    "\n",
    "In this final section, we are going to use the gradient descend method to find  $w^{*} = \\text{arg min}_w J(w)$, that is, the value of parameter $w$ such that $J(w)$ reaches the (locally) minimum value. In gradient descent, we usually work with an *iterative update scheme* for the weight $w$: \n",
    "$$w^{(t+1)} \\leftarrow w^{(t)} + \\Delta w,$$ \n",
    "where $\\Delta w = -\\epsilon \\cdot \\nabla J(w^{(t)})$ for some (often constant) learning rate $\\epsilon$ and the gradient $\\nabla J$ evaluated at current parameter value $w^{(t)}$. Intuitively speaking, we update the parameters in each iteration in the *opposite* direction of the gradient. The update rule can be formally written as follows.\n",
    "\n",
    "$$w^{(t+1)} \\leftarrow w^{(t)} - \\epsilon\\cdot  \\nabla J(w^{(t)}).$$\n",
    "\n",
    "The following (partial) code first sets up a canvas to illustrate visually how gradient descent works on the loss function $J(w)$. Here we use a learning rate $\\epsilon = 0.0001$ and initial weight $w_0 = 2.5$. A for-loop will iteratively update the value of weight $w$ (see the body of the for-loop). After each update, the new value of weight $w$ will be plotted, and over time, it shows clearly how the weight is updated until coverging to the global optimum. \n",
    "\n",
    "Complete the code below so that the parameter $w$ is updated via gradient descent."
   ]
  },
  {
   "cell_type": "code",
   "execution_count": null,
   "metadata": {
    "collapsed": true,
    "jupyter": {
     "outputs_hidden": true
    }
   },
   "outputs": [],
   "source": [
    "%matplotlib notebook\n",
    "\n",
    "import time\n",
    "\n",
    "# set up the canvas\n",
    "fig = plt.figure()\n",
    "ax = fig.add_subplot(111)\n",
    "plt.ion()\n",
    "fig.show()\n",
    "fig.canvas.draw()\n",
    "\n",
    "# limit range of values on x-axis\n",
    "x = np.arange(2,6, 0.1)\n",
    "\n",
    "# Learning rate\n",
    "epsilon = 0.0001\n",
    "\n",
    "# Initial weight\n",
    "w = 2.5\n",
    "\n",
    "# update values of w\n",
    "for i in range(1,100):   \n",
    "    w = 0 # CHANGE THIS LINE OF THE CODE\n",
    "    ax.clear()\n",
    "    ax.plot(x,[J(y, body_weight, heart_weight) for y in x])\n",
    "    ax.plot(w, J(w, body_weight, heart_weight),'o')\n",
    "    fig.canvas.draw()\n",
    "    time.sleep(1)"
   ]
  },
  {
   "cell_type": "markdown",
   "metadata": {},
   "source": [
    "For what value of the weight parameter $w$ does the loss function reach its minimum value? \n",
    "\n",
    "How is this value different from the weight obtained by using the least-square method? "
   ]
  },
  {
   "cell_type": "code",
   "execution_count": null,
   "metadata": {
    "collapsed": true,
    "jupyter": {
     "outputs_hidden": true
    }
   },
   "outputs": [],
   "source": []
  }
 ],
 "metadata": {
  "kernelspec": {
   "display_name": "Python 3",
   "language": "python",
   "name": "python3"
  },
  "language_info": {
   "codemirror_mode": {
    "name": "ipython",
    "version": 3
   },
   "file_extension": ".py",
   "mimetype": "text/x-python",
   "name": "python",
   "nbconvert_exporter": "python",
   "pygments_lexer": "ipython3",
   "version": "3.8.3"
  }
 },
 "nbformat": 4,
 "nbformat_minor": 4
}
